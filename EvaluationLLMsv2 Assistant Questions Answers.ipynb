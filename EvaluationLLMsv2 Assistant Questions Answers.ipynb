{
 "cells": [
  {
   "cell_type": "markdown",
   "metadata": {},
   "source": [
    "## QA"
   ]
  },
  {
   "cell_type": "markdown",
   "metadata": {},
   "source": [
    "## Experimentation"
   ]
  },
  {
   "cell_type": "code",
   "execution_count": 1,
   "metadata": {},
   "outputs": [],
   "source": [
    "## parameters\n",
    "\n",
    "model_embedding = \"text-embedding-ada-002\"\n",
    "#modelo_banco = \"gpt-35-turbo-16k-PQR\"\n",
    "modelo_banco = \"gpt-4o-mini_clasificacion-PQRS\"\n",
    "temperature_ = 0.0\n",
    "\n",
    "chunk_text = 1500\n",
    "chunk_over = 200\n",
    "perfil_usuario = \"Usuario colombiano interesado en modelos de lenguaje e IA aplicada\"\n",
    "contexto_generico = \"Los LLMOps son un conjunto de prácticas para operar, evaluar y monitorear modelos de lenguaje.\"\n",
    "\n",
    "\n",
    "prompt_system = \"\"\"\n",
    "Eres un Asistente Personal de Inteligencia Artificial experto en explicar información técnica de manera clara, concisa y fácil de entender para cualquier persona, incluso para un público no técnico. Tu objetivo es ser extremadamente útil y amigable.\n",
    "\n",
    "Para responder a las preguntas del usuario, **siempre debes basarte en los RESULTADOS DE BÚSQUEDA SEMÁNTICA proporcionados.**\n",
    "\n",
    "Instrucciones CLAVE para generar tu respuesta:\n",
    "1.  **Prioriza la Coherencia:** Asegúrate de que tu respuesta esté DIRECTAMENTE relacionada con la pregunta. No te desvíes del tema.\n",
    "2.  **Responde de manera fluida. Imagina que le estás explicando a alguien que no es experto en el tema. Puedes hacer una mezcla donde prime lo coloquial en el discurso sobre lo técnico.\n",
    "3.  **Mantén la Precisión y Veracidad:** Solo utiliza la información de la BÚSQUEDA SEMÁNTICA si es relevante y tiene relación directa con la pregunta.\n",
    "4.  **No Inventes (Evita Alucinaciones):** Si la respuesta no se encuentra explícitamente en el contexto de la búsqueda semántica, no intentes adivinar ni inventes información. En ese caso, responde amablemente que no tienes información suficiente para responder a esa pregunta específica.\n",
    "5.  **Tono y Personalización:** Mantén un tono amigable y de asistente personal. Si la pregunta lo permite y la información de personalización está implícita o disponible, considera cómo hacer la respuesta más relevante para un \"Usuario colombiano interesado en modelos de lenguaje e IA aplicada\".\n",
    "\n",
    "RESULTADOS DE BÚSQUEDA SEMÁNTICA:\n",
    "{source}\n",
    "\n",
    "Ahora, respira profundo, piensa paso a paso y genera la mejor respuesta posible para el usuario, aplicando todas las instrucciones anteriores.\n",
    "\"\"\"\n",
    "\n",
    "prompt_system = \"\"\"\n",
    "    Eres una Inteligencia Artificial super avanzada que trabaja asistente personal.\n",
    "    Utilice los RESULTADOS DE BÚSQUEDA SEMANTICA para responder las preguntas del usuario.\n",
    "    Solo debes utilizar la informacion de la BUSQUEDA SEMANTICA si es que hace sentido y tiene relacion con la pregunta del usuario.\n",
    "    Si la respuesta no se encuentra dentro del contexto de la búsqueda semántica, no inventes una respuesta, y responde amablemente que no tienes información para responder.\n",
    "\n",
    "    RESULTADOS DE BÚSQUEDA SEMANTICA:\n",
    "    {source}\n",
    "\n",
    "    Lee cuidadosamente las instrucciones, respira profundo y escribe una respuesta para el usuario!\n",
    "    \"\"\"\n",
    "\n",
    "prompt_system = \"\"\"\n",
    "Eres un Asistente Personal de Inteligencia Artificial experto en explicar información técnica de manera clara, concisa y fácil de entender para cualquier persona, incluso para un público no técnico. Tu objetivo es ser extremadamente útil y amigable.\n",
    "\n",
    "Para responder a las preguntas del usuario, **siempre debes basarte en los RESULTADOS DE BÚSQUEDA SEMÁNTICA proporcionados.**\n",
    "\n",
    "Instrucciones CLAVE para generar tu respuesta:\n",
    "1.  **Prioriza la Coherencia:** Asegúrate de que tu respuesta esté DIRECTAMENTE relacionada con la pregunta. No te desvíes del tema.\n",
    "2.  **Responde de manera fluida. Imagina que le estás explicando a alguien que no es experto en el tema. Puedes hacer una mezcla donde prime lo coloquial en el discurso sobre lo técnico.\n",
    "3.  **Mantén la Precisión y Veracidad:** Solo utiliza la información de la BÚSQUEDA SEMÁNTICA si es relevante y tiene relación directa con la pregunta.\n",
    "4.  **No Inventes (Evita Alucinaciones):** Si la respuesta no se encuentra explícitamente en el contexto de la búsqueda semántica, no intentes adivinar ni inventes información. En ese caso, responde amablemente que no tienes información suficiente para responder a esa pregunta específica.\n",
    "5.  **Tono y Personalización:** Mantén un tono amigable y de asistente personal. Si la pregunta lo permite y la información de personalización está implícita o disponible, considera cómo hacer la respuesta más relevante para un \"Usuario colombiano interesado en modelos de lenguaje e IA aplicada\".\n",
    "\n",
    "RESULTADOS DE BÚSQUEDA SEMÁNTICA:\n",
    "{source}\n",
    "\n",
    "Ahora, respira profundo, piensa paso a paso y genera la mejor respuesta posible para el usuario, aplicando todas las instrucciones anteriores.\n",
    "\"\"\"\n",
    "\n",
    "top_join = 10"
   ]
  },
  {
   "cell_type": "code",
   "execution_count": 2,
   "metadata": {},
   "outputs": [],
   "source": [
    "import pandas as pd\n",
    "import numpy as np\n",
    "import json\n",
    "import warnings\n",
    "import logging\n",
    "import torch\n",
    "import textstat\n",
    "import nltk\n",
    "\n",
    "# Importaciones específicas de Code 1 para LLMs y Azure\n",
    "from langchain.document_loaders import PyPDFLoader\n",
    "from langchain.text_splitter import RecursiveCharacterTextSplitter\n",
    "from openai import AzureOpenAI\n",
    "from bert_score import score as bert_score"
   ]
  },
  {
   "cell_type": "code",
   "execution_count": 3,
   "metadata": {},
   "outputs": [],
   "source": [
    "# --- Configuración inicial ---\n",
    "nltk.download('punkt', quiet=True)\n",
    "warnings.filterwarnings(\"ignore\")\n",
    "# Silenciar warnings de HuggingFace que no son relevantes si BERTScore se usa sin TransformerPipeline\n",
    "logging.getLogger(\"transformers.modeling_utils\").setLevel(logging.ERROR)\n",
    "logging.getLogger(\"transformers.configuration_utils\").setLevel(logging.ERROR)\n",
    "logging.getLogger(\"transformers.tokenization_utils_base\").setLevel(logging.ERROR)"
   ]
  },
  {
   "cell_type": "code",
   "execution_count": 4,
   "metadata": {},
   "outputs": [],
   "source": [
    "def medir_coherencia(pregunta, respuesta):\n",
    "    \"\"\"Mide la coherencia entre una pregunta y su respuesta utilizando BERTScore.\"\"\"\n",
    "    P, R, F1 = bert_score([respuesta], [pregunta], lang=\"en\", model_type=\"roberta-base\", rescale_with_baseline=False)\n",
    "    return float(F1[0])\n",
    "\n",
    "def medir_personalizacion(perfil_usuario, respuesta):\n",
    "    \"\"\"Mide qué tan personalizada es una respuesta en relación con un perfil de usuario.\"\"\"\n",
    "    P, R, F1 = bert_score([respuesta], [perfil_usuario], lang=\"en\", model_type=\"roberta-base\", rescale_with_baseline=False)\n",
    "    return float(F1[0])\n",
    "\n",
    "def medir_fluidez(texto):\n",
    "    \"\"\"Mide la fluidez de un texto utilizando el índice de facilidad de lectura de Flesch.\"\"\"\n",
    "    return textstat.flesch_reading_ease(texto)\n",
    "\n",
    "def medir_alucinacion(respuesta, contexto_fuente):\n",
    "    \"\"\"Mide la alucinación comparando la respuesta con un contexto fuente (usando BERTScore).\"\"\"\n",
    "    P, R, F1 = bert_score([respuesta], [contexto_fuente], lang=\"en\", model_type=\"roberta-base\", rescale_with_baseline=False)\n",
    "    return float(F1[0])\n"
   ]
  },
  {
   "cell_type": "code",
   "execution_count": 5,
   "metadata": {},
   "outputs": [],
   "source": [
    "# 1. Cargar credenciales desde JSON\n",
    "def cargar_credenciales(ruta_credenciales):\n",
    "    with open(ruta_credenciales, \"r\") as file:\n",
    "        return json.load(file)\n",
    "\n",
    "# 2. Crear cliente AzureOpenAI\n",
    "def crear_cliente_azure(creds):\n",
    "    client = AzureOpenAI(\n",
    "        api_key=creds[\"AZURE_API_KEY\"],\n",
    "        api_version=creds[\"AZURE_API_VERSION\"],\n",
    "        azure_endpoint=creds[\"AZURE_ENDPOINT\"]\n",
    "    )\n",
    "    return client\n",
    "\n",
    "# 3. Generar embeddings usando cliente (AzureOpenAI)\n",
    "def text_embedding(text):\n",
    "    input_text = [text] if isinstance(text, str) else text\n",
    "    embeddings = client.embeddings.create(model=model_embedding,\n",
    "                                          input=input_text,\n",
    "                                          encoding_format=\"float\")\n",
    "    return embeddings.data[0].embedding\n",
    "\n",
    "# 4. Inicialización Global del Cliente Azure y Credenciales\n",
    "ruta_credenciales = \"credentials.json\"\n",
    "creds = cargar_credenciales(ruta_credenciales)\n",
    "client = crear_cliente_azure(creds)"
   ]
  },
  {
   "cell_type": "code",
   "execution_count": 6,
   "metadata": {},
   "outputs": [],
   "source": [
    "loader = PyPDFLoader(\"llm_doc.pdf\")\n",
    "documents = loader.load()\n",
    "text_splitter = RecursiveCharacterTextSplitter(chunk_size=chunk_text, \n",
    "chunk_overlap=chunk_over)\n",
    "doc_splits = text_splitter.split_documents(documents)\n"
   ]
  },
  {
   "cell_type": "code",
   "execution_count": 7,
   "metadata": {},
   "outputs": [
    {
     "data": {
      "text/html": [
       "<div>\n",
       "<style scoped>\n",
       "    .dataframe tbody tr th:only-of-type {\n",
       "        vertical-align: middle;\n",
       "    }\n",
       "\n",
       "    .dataframe tbody tr th {\n",
       "        vertical-align: top;\n",
       "    }\n",
       "\n",
       "    .dataframe thead th {\n",
       "        text-align: right;\n",
       "    }\n",
       "</style>\n",
       "<table border=\"1\" class=\"dataframe\">\n",
       "  <thead>\n",
       "    <tr style=\"text-align: right;\">\n",
       "      <th></th>\n",
       "      <th>Chunks</th>\n",
       "      <th>Metadata</th>\n",
       "    </tr>\n",
       "  </thead>\n",
       "  <tbody>\n",
       "    <tr>\n",
       "      <th>0</th>\n",
       "      <td>Building Pipelines and Environments for  \\nLar...</td>\n",
       "      <td>{'producer': 'Adobe PDF Library 17.0', 'creato...</td>\n",
       "    </tr>\n",
       "    <tr>\n",
       "      <th>1</th>\n",
       "      <td>Contents\\nIntroduction to LLMOps 1\\nWhy LLMOps...</td>\n",
       "      <td>{'producer': 'Adobe PDF Library 17.0', 'creato...</td>\n",
       "    </tr>\n",
       "    <tr>\n",
       "      <th>2</th>\n",
       "      <td>1.\\nIntroduction to LLMOps\\nGenerative AI mode...</td>\n",
       "      <td>{'producer': 'Adobe PDF Library 17.0', 'creato...</td>\n",
       "    </tr>\n",
       "  </tbody>\n",
       "</table>\n",
       "</div>"
      ],
      "text/plain": [
       "                                              Chunks  \\\n",
       "0  Building Pipelines and Environments for  \\nLar...   \n",
       "1  Contents\\nIntroduction to LLMOps 1\\nWhy LLMOps...   \n",
       "2  1.\\nIntroduction to LLMOps\\nGenerative AI mode...   \n",
       "\n",
       "                                            Metadata  \n",
       "0  {'producer': 'Adobe PDF Library 17.0', 'creato...  \n",
       "1  {'producer': 'Adobe PDF Library 17.0', 'creato...  \n",
       "2  {'producer': 'Adobe PDF Library 17.0', 'creato...  "
      ]
     },
     "execution_count": 7,
     "metadata": {},
     "output_type": "execute_result"
    }
   ],
   "source": [
    "data = [{'Chunks': doc.page_content, 'Metadata': doc.metadata} for doc in doc_splits]\n",
    "df_vector_store = pd.DataFrame(data)\n",
    "df_vector_store.head(3)"
   ]
  },
  {
   "cell_type": "code",
   "execution_count": 8,
   "metadata": {},
   "outputs": [
    {
     "name": "stdout",
     "output_type": "stream",
     "text": [
      "✅ df_vector_store creado y embeddings aplicados. Filas: 35\n"
     ]
    }
   ],
   "source": [
    "df_vector_store[\"Embedding\"] = df_vector_store[\"Chunks\"].apply(lambda x: text_embedding(x))\n",
    "df_vector_store[\"Embedding\"] = df_vector_store[\"Embedding\"].apply(np.array)\n",
    "print(f\"✅ df_vector_store creado y embeddings aplicados. Filas: {len(df_vector_store)}\")\n"
   ]
  },
  {
   "cell_type": "code",
   "execution_count": 9,
   "metadata": {},
   "outputs": [
    {
     "data": {
      "text/html": [
       "<div>\n",
       "<style scoped>\n",
       "    .dataframe tbody tr th:only-of-type {\n",
       "        vertical-align: middle;\n",
       "    }\n",
       "\n",
       "    .dataframe tbody tr th {\n",
       "        vertical-align: top;\n",
       "    }\n",
       "\n",
       "    .dataframe thead th {\n",
       "        text-align: right;\n",
       "    }\n",
       "</style>\n",
       "<table border=\"1\" class=\"dataframe\">\n",
       "  <thead>\n",
       "    <tr style=\"text-align: right;\">\n",
       "      <th></th>\n",
       "      <th>Chunks</th>\n",
       "      <th>Metadata</th>\n",
       "      <th>Embedding</th>\n",
       "    </tr>\n",
       "  </thead>\n",
       "  <tbody>\n",
       "    <tr>\n",
       "      <th>0</th>\n",
       "      <td>Building Pipelines and Environments for  \\nLar...</td>\n",
       "      <td>{'producer': 'Adobe PDF Library 17.0', 'creato...</td>\n",
       "      <td>[-0.001881948, -0.012164683, 0.016830197, -0.0...</td>\n",
       "    </tr>\n",
       "    <tr>\n",
       "      <th>1</th>\n",
       "      <td>Contents\\nIntroduction to LLMOps 1\\nWhy LLMOps...</td>\n",
       "      <td>{'producer': 'Adobe PDF Library 17.0', 'creato...</td>\n",
       "      <td>[0.0030545578, -0.0043646125, -0.0022074673, -...</td>\n",
       "    </tr>\n",
       "    <tr>\n",
       "      <th>2</th>\n",
       "      <td>1.\\nIntroduction to LLMOps\\nGenerative AI mode...</td>\n",
       "      <td>{'producer': 'Adobe PDF Library 17.0', 'creato...</td>\n",
       "      <td>[-0.01837697, -0.006330145, -0.012768152, -0.0...</td>\n",
       "    </tr>\n",
       "  </tbody>\n",
       "</table>\n",
       "</div>"
      ],
      "text/plain": [
       "                                              Chunks  \\\n",
       "0  Building Pipelines and Environments for  \\nLar...   \n",
       "1  Contents\\nIntroduction to LLMOps 1\\nWhy LLMOps...   \n",
       "2  1.\\nIntroduction to LLMOps\\nGenerative AI mode...   \n",
       "\n",
       "                                            Metadata  \\\n",
       "0  {'producer': 'Adobe PDF Library 17.0', 'creato...   \n",
       "1  {'producer': 'Adobe PDF Library 17.0', 'creato...   \n",
       "2  {'producer': 'Adobe PDF Library 17.0', 'creato...   \n",
       "\n",
       "                                           Embedding  \n",
       "0  [-0.001881948, -0.012164683, 0.016830197, -0.0...  \n",
       "1  [0.0030545578, -0.0043646125, -0.0022074673, -...  \n",
       "2  [-0.01837697, -0.006330145, -0.012768152, -0.0...  "
      ]
     },
     "execution_count": 9,
     "metadata": {},
     "output_type": "execute_result"
    }
   ],
   "source": [
    "df_vector_store.head(3)"
   ]
  },
  {
   "cell_type": "markdown",
   "metadata": {},
   "source": [
    "## LLM Evaluation"
   ]
  },
  {
   "cell_type": "code",
   "execution_count": 10,
   "metadata": {},
   "outputs": [
    {
     "data": {
      "text/html": [
       "<div>\n",
       "<style scoped>\n",
       "    .dataframe tbody tr th:only-of-type {\n",
       "        vertical-align: middle;\n",
       "    }\n",
       "\n",
       "    .dataframe tbody tr th {\n",
       "        vertical-align: top;\n",
       "    }\n",
       "\n",
       "    .dataframe thead th {\n",
       "        text-align: right;\n",
       "    }\n",
       "</style>\n",
       "<table border=\"1\" class=\"dataframe\">\n",
       "  <thead>\n",
       "    <tr style=\"text-align: right;\">\n",
       "      <th></th>\n",
       "      <th>Item</th>\n",
       "      <th>Integrante</th>\n",
       "      <th>Pregunta</th>\n",
       "      <th>Respuesta</th>\n",
       "    </tr>\n",
       "  </thead>\n",
       "  <tbody>\n",
       "    <tr>\n",
       "      <th>0</th>\n",
       "      <td>P1</td>\n",
       "      <td>Katherine</td>\n",
       "      <td>¿Qué son los LLMOps?</td>\n",
       "      <td>Los LLMOps son un marco de herramientas y mejo...</td>\n",
       "    </tr>\n",
       "    <tr>\n",
       "      <th>1</th>\n",
       "      <td>P2</td>\n",
       "      <td>Katherine</td>\n",
       "      <td>¿Por qué son importantes los LLMOps?</td>\n",
       "      <td>Los LLMOps son esenciales para superar desafío...</td>\n",
       "    </tr>\n",
       "    <tr>\n",
       "      <th>2</th>\n",
       "      <td>P3</td>\n",
       "      <td>Katherine</td>\n",
       "      <td>¿Cuáles son las etapas típicas de un flujo de ...</td>\n",
       "      <td>Las etapas incluyen: recolección, preparación ...</td>\n",
       "    </tr>\n",
       "    <tr>\n",
       "      <th>3</th>\n",
       "      <td>P4</td>\n",
       "      <td>Katherine</td>\n",
       "      <td>¿Qué implica la etapa de recolección y prepara...</td>\n",
       "      <td>Consiste en obtener datos, garantizar su calid...</td>\n",
       "    </tr>\n",
       "    <tr>\n",
       "      <th>4</th>\n",
       "      <td>P5</td>\n",
       "      <td>Katherine</td>\n",
       "      <td>¿Cuántos entornos necesita un pipeline típico ...</td>\n",
       "      <td>Un pipeline típico de LLMOps necesita tres ent...</td>\n",
       "    </tr>\n",
       "    <tr>\n",
       "      <th>5</th>\n",
       "      <td>P6</td>\n",
       "      <td>Katherine</td>\n",
       "      <td>¿Qué técnica permite a los modelos LLM realiza...</td>\n",
       "      <td>La técnica es el aprendizaje cero (Zero-Shot L...</td>\n",
       "    </tr>\n",
       "    <tr>\n",
       "      <th>6</th>\n",
       "      <td>P7</td>\n",
       "      <td>Katherine</td>\n",
       "      <td>¿Qué mide la métrica de LLMs Perplexity?</td>\n",
       "      <td>Mide la sorpresa del modelo ante nuevos datos....</td>\n",
       "    </tr>\n",
       "    <tr>\n",
       "      <th>7</th>\n",
       "      <td>P8</td>\n",
       "      <td>Katherine</td>\n",
       "      <td>¿Cómo se evalúan los LLMs y sus prompts?</td>\n",
       "      <td>Se utilizan métricas como Perplexity, BLEU, RO...</td>\n",
       "    </tr>\n",
       "    <tr>\n",
       "      <th>8</th>\n",
       "      <td>P9</td>\n",
       "      <td>Katherine</td>\n",
       "      <td>¿Cuáles son algunas técnicas de optimización p...</td>\n",
       "      <td>Algunas técnicas son la destilación, la cuanti...</td>\n",
       "    </tr>\n",
       "    <tr>\n",
       "      <th>9</th>\n",
       "      <td>P10</td>\n",
       "      <td>Katherine</td>\n",
       "      <td>¿Por qué es importante el monitoreo en un ento...</td>\n",
       "      <td>Porque la distribución de datos cambia con el ...</td>\n",
       "    </tr>\n",
       "  </tbody>\n",
       "</table>\n",
       "</div>"
      ],
      "text/plain": [
       "  Item Integrante                                           Pregunta  \\\n",
       "0   P1  Katherine                               ¿Qué son los LLMOps?   \n",
       "1   P2  Katherine               ¿Por qué son importantes los LLMOps?   \n",
       "2   P3  Katherine  ¿Cuáles son las etapas típicas de un flujo de ...   \n",
       "3   P4  Katherine  ¿Qué implica la etapa de recolección y prepara...   \n",
       "4   P5  Katherine  ¿Cuántos entornos necesita un pipeline típico ...   \n",
       "5   P6  Katherine  ¿Qué técnica permite a los modelos LLM realiza...   \n",
       "6   P7  Katherine           ¿Qué mide la métrica de LLMs Perplexity?   \n",
       "7   P8  Katherine           ¿Cómo se evalúan los LLMs y sus prompts?   \n",
       "8   P9  Katherine  ¿Cuáles son algunas técnicas de optimización p...   \n",
       "9  P10  Katherine  ¿Por qué es importante el monitoreo en un ento...   \n",
       "\n",
       "                                           Respuesta  \n",
       "0  Los LLMOps son un marco de herramientas y mejo...  \n",
       "1  Los LLMOps son esenciales para superar desafío...  \n",
       "2  Las etapas incluyen: recolección, preparación ...  \n",
       "3  Consiste en obtener datos, garantizar su calid...  \n",
       "4  Un pipeline típico de LLMOps necesita tres ent...  \n",
       "5  La técnica es el aprendizaje cero (Zero-Shot L...  \n",
       "6  Mide la sorpresa del modelo ante nuevos datos....  \n",
       "7  Se utilizan métricas como Perplexity, BLEU, RO...  \n",
       "8  Algunas técnicas son la destilación, la cuanti...  \n",
       "9  Porque la distribución de datos cambia con el ...  "
      ]
     },
     "execution_count": 10,
     "metadata": {},
     "output_type": "execute_result"
    }
   ],
   "source": [
    "df_preguntas_respuestas = pd.read_excel(\"preguntas_BOT.xlsx\")\n",
    "df_preguntas_respuestas.head(10)"
   ]
  },
  {
   "cell_type": "code",
   "execution_count": 11,
   "metadata": {},
   "outputs": [],
   "source": [
    "modelo_banco = \"gpt-4o-mini_clasificacion-PQRS\"\n",
    "#modelo_banco = \"gpt-35-turbo-16k-PQR\""
   ]
  },
  {
   "cell_type": "code",
   "execution_count": 12,
   "metadata": {},
   "outputs": [
    {
     "name": "stdout",
     "output_type": "stream",
     "text": [
      "\n",
      "Procesando Pregunta 1/10: '¿Qué son los LLMOps?...'\n"
     ]
    },
    {
     "name": "stderr",
     "output_type": "stream",
     "text": [
      "The following layers were not sharded: encoder.layer.*.output.dense.bias, encoder.layer.*.attention.output.LayerNorm.weight, encoder.layer.*.attention.self.key.weight, embeddings.token_type_embeddings.weight, encoder.layer.*.intermediate.dense.bias, embeddings.LayerNorm.bias, encoder.layer.*.attention.output.LayerNorm.bias, embeddings.position_embeddings.weight, encoder.layer.*.output.dense.weight, pooler.dense.weight, encoder.layer.*.intermediate.dense.weight, encoder.layer.*.attention.output.dense.weight, encoder.layer.*.attention.output.dense.bias, embeddings.word_embeddings.weight, encoder.layer.*.attention.self.key.bias, encoder.layer.*.output.LayerNorm.weight, encoder.layer.*.attention.self.query.weight, encoder.layer.*.attention.self.query.bias, encoder.layer.*.attention.self.value.bias, encoder.layer.*.output.LayerNorm.bias, encoder.layer.*.attention.self.value.weight, pooler.dense.bias, embeddings.LayerNorm.weight\n",
      "The following layers were not sharded: encoder.layer.*.output.dense.bias, encoder.layer.*.attention.output.LayerNorm.weight, encoder.layer.*.attention.self.key.weight, embeddings.token_type_embeddings.weight, encoder.layer.*.intermediate.dense.bias, embeddings.LayerNorm.bias, encoder.layer.*.attention.output.LayerNorm.bias, embeddings.position_embeddings.weight, encoder.layer.*.output.dense.weight, pooler.dense.weight, encoder.layer.*.intermediate.dense.weight, encoder.layer.*.attention.output.dense.weight, encoder.layer.*.attention.output.dense.bias, embeddings.word_embeddings.weight, encoder.layer.*.attention.self.key.bias, encoder.layer.*.output.LayerNorm.weight, encoder.layer.*.attention.self.query.weight, encoder.layer.*.attention.self.query.bias, encoder.layer.*.attention.self.value.bias, encoder.layer.*.output.LayerNorm.bias, encoder.layer.*.attention.self.value.weight, pooler.dense.bias, embeddings.LayerNorm.weight\n",
      "The following layers were not sharded: encoder.layer.*.output.dense.bias, encoder.layer.*.attention.output.LayerNorm.weight, encoder.layer.*.attention.self.key.weight, embeddings.token_type_embeddings.weight, encoder.layer.*.intermediate.dense.bias, embeddings.LayerNorm.bias, encoder.layer.*.attention.output.LayerNorm.bias, embeddings.position_embeddings.weight, encoder.layer.*.output.dense.weight, pooler.dense.weight, encoder.layer.*.intermediate.dense.weight, encoder.layer.*.attention.output.dense.weight, encoder.layer.*.attention.output.dense.bias, embeddings.word_embeddings.weight, encoder.layer.*.attention.self.key.bias, encoder.layer.*.output.LayerNorm.weight, encoder.layer.*.attention.self.query.weight, encoder.layer.*.attention.self.query.bias, encoder.layer.*.attention.self.value.bias, encoder.layer.*.output.LayerNorm.bias, encoder.layer.*.attention.self.value.weight, pooler.dense.bias, embeddings.LayerNorm.weight\n"
     ]
    },
    {
     "name": "stdout",
     "output_type": "stream",
     "text": [
      "\n",
      "Procesando Pregunta 2/10: '¿Por qué son importantes los LLMOps?...'\n"
     ]
    },
    {
     "name": "stderr",
     "output_type": "stream",
     "text": [
      "The following layers were not sharded: encoder.layer.*.output.dense.bias, encoder.layer.*.attention.output.LayerNorm.weight, encoder.layer.*.attention.self.key.weight, embeddings.token_type_embeddings.weight, encoder.layer.*.intermediate.dense.bias, embeddings.LayerNorm.bias, encoder.layer.*.attention.output.LayerNorm.bias, embeddings.position_embeddings.weight, encoder.layer.*.output.dense.weight, pooler.dense.weight, encoder.layer.*.intermediate.dense.weight, encoder.layer.*.attention.output.dense.weight, encoder.layer.*.attention.output.dense.bias, embeddings.word_embeddings.weight, encoder.layer.*.attention.self.key.bias, encoder.layer.*.output.LayerNorm.weight, encoder.layer.*.attention.self.query.weight, encoder.layer.*.attention.self.query.bias, encoder.layer.*.attention.self.value.bias, encoder.layer.*.output.LayerNorm.bias, encoder.layer.*.attention.self.value.weight, pooler.dense.bias, embeddings.LayerNorm.weight\n",
      "The following layers were not sharded: encoder.layer.*.output.dense.bias, encoder.layer.*.attention.output.LayerNorm.weight, encoder.layer.*.attention.self.key.weight, embeddings.token_type_embeddings.weight, encoder.layer.*.intermediate.dense.bias, embeddings.LayerNorm.bias, encoder.layer.*.attention.output.LayerNorm.bias, embeddings.position_embeddings.weight, encoder.layer.*.output.dense.weight, pooler.dense.weight, encoder.layer.*.intermediate.dense.weight, encoder.layer.*.attention.output.dense.weight, encoder.layer.*.attention.output.dense.bias, embeddings.word_embeddings.weight, encoder.layer.*.attention.self.key.bias, encoder.layer.*.output.LayerNorm.weight, encoder.layer.*.attention.self.query.weight, encoder.layer.*.attention.self.query.bias, encoder.layer.*.attention.self.value.bias, encoder.layer.*.output.LayerNorm.bias, encoder.layer.*.attention.self.value.weight, pooler.dense.bias, embeddings.LayerNorm.weight\n",
      "The following layers were not sharded: encoder.layer.*.output.dense.bias, encoder.layer.*.attention.output.LayerNorm.weight, encoder.layer.*.attention.self.key.weight, embeddings.token_type_embeddings.weight, encoder.layer.*.intermediate.dense.bias, embeddings.LayerNorm.bias, encoder.layer.*.attention.output.LayerNorm.bias, embeddings.position_embeddings.weight, encoder.layer.*.output.dense.weight, pooler.dense.weight, encoder.layer.*.intermediate.dense.weight, encoder.layer.*.attention.output.dense.weight, encoder.layer.*.attention.output.dense.bias, embeddings.word_embeddings.weight, encoder.layer.*.attention.self.key.bias, encoder.layer.*.output.LayerNorm.weight, encoder.layer.*.attention.self.query.weight, encoder.layer.*.attention.self.query.bias, encoder.layer.*.attention.self.value.bias, encoder.layer.*.output.LayerNorm.bias, encoder.layer.*.attention.self.value.weight, pooler.dense.bias, embeddings.LayerNorm.weight\n"
     ]
    },
    {
     "name": "stdout",
     "output_type": "stream",
     "text": [
      "\n",
      "Procesando Pregunta 3/10: '¿Cuáles son las etapas típicas de un flujo de trabajo LLMOps?...'\n"
     ]
    },
    {
     "name": "stderr",
     "output_type": "stream",
     "text": [
      "The following layers were not sharded: encoder.layer.*.output.dense.bias, encoder.layer.*.attention.output.LayerNorm.weight, encoder.layer.*.attention.self.key.weight, embeddings.token_type_embeddings.weight, encoder.layer.*.intermediate.dense.bias, embeddings.LayerNorm.bias, encoder.layer.*.attention.output.LayerNorm.bias, embeddings.position_embeddings.weight, encoder.layer.*.output.dense.weight, pooler.dense.weight, encoder.layer.*.intermediate.dense.weight, encoder.layer.*.attention.output.dense.weight, encoder.layer.*.attention.output.dense.bias, embeddings.word_embeddings.weight, encoder.layer.*.attention.self.key.bias, encoder.layer.*.output.LayerNorm.weight, encoder.layer.*.attention.self.query.weight, encoder.layer.*.attention.self.query.bias, encoder.layer.*.attention.self.value.bias, encoder.layer.*.output.LayerNorm.bias, encoder.layer.*.attention.self.value.weight, pooler.dense.bias, embeddings.LayerNorm.weight\n",
      "The following layers were not sharded: encoder.layer.*.output.dense.bias, encoder.layer.*.attention.output.LayerNorm.weight, encoder.layer.*.attention.self.key.weight, embeddings.token_type_embeddings.weight, encoder.layer.*.intermediate.dense.bias, embeddings.LayerNorm.bias, encoder.layer.*.attention.output.LayerNorm.bias, embeddings.position_embeddings.weight, encoder.layer.*.output.dense.weight, pooler.dense.weight, encoder.layer.*.intermediate.dense.weight, encoder.layer.*.attention.output.dense.weight, encoder.layer.*.attention.output.dense.bias, embeddings.word_embeddings.weight, encoder.layer.*.attention.self.key.bias, encoder.layer.*.output.LayerNorm.weight, encoder.layer.*.attention.self.query.weight, encoder.layer.*.attention.self.query.bias, encoder.layer.*.attention.self.value.bias, encoder.layer.*.output.LayerNorm.bias, encoder.layer.*.attention.self.value.weight, pooler.dense.bias, embeddings.LayerNorm.weight\n",
      "The following layers were not sharded: encoder.layer.*.output.dense.bias, encoder.layer.*.attention.output.LayerNorm.weight, encoder.layer.*.attention.self.key.weight, embeddings.token_type_embeddings.weight, encoder.layer.*.intermediate.dense.bias, embeddings.LayerNorm.bias, encoder.layer.*.attention.output.LayerNorm.bias, embeddings.position_embeddings.weight, encoder.layer.*.output.dense.weight, pooler.dense.weight, encoder.layer.*.intermediate.dense.weight, encoder.layer.*.attention.output.dense.weight, encoder.layer.*.attention.output.dense.bias, embeddings.word_embeddings.weight, encoder.layer.*.attention.self.key.bias, encoder.layer.*.output.LayerNorm.weight, encoder.layer.*.attention.self.query.weight, encoder.layer.*.attention.self.query.bias, encoder.layer.*.attention.self.value.bias, encoder.layer.*.output.LayerNorm.bias, encoder.layer.*.attention.self.value.weight, pooler.dense.bias, embeddings.LayerNorm.weight\n"
     ]
    },
    {
     "name": "stdout",
     "output_type": "stream",
     "text": [
      "\n",
      "Procesando Pregunta 4/10: '¿Qué implica la etapa de recolección y preparación de datos?...'\n"
     ]
    },
    {
     "name": "stderr",
     "output_type": "stream",
     "text": [
      "The following layers were not sharded: encoder.layer.*.output.dense.bias, encoder.layer.*.attention.output.LayerNorm.weight, encoder.layer.*.attention.self.key.weight, embeddings.token_type_embeddings.weight, encoder.layer.*.intermediate.dense.bias, embeddings.LayerNorm.bias, encoder.layer.*.attention.output.LayerNorm.bias, embeddings.position_embeddings.weight, encoder.layer.*.output.dense.weight, pooler.dense.weight, encoder.layer.*.intermediate.dense.weight, encoder.layer.*.attention.output.dense.weight, encoder.layer.*.attention.output.dense.bias, embeddings.word_embeddings.weight, encoder.layer.*.attention.self.key.bias, encoder.layer.*.output.LayerNorm.weight, encoder.layer.*.attention.self.query.weight, encoder.layer.*.attention.self.query.bias, encoder.layer.*.attention.self.value.bias, encoder.layer.*.output.LayerNorm.bias, encoder.layer.*.attention.self.value.weight, pooler.dense.bias, embeddings.LayerNorm.weight\n",
      "The following layers were not sharded: encoder.layer.*.output.dense.bias, encoder.layer.*.attention.output.LayerNorm.weight, encoder.layer.*.attention.self.key.weight, embeddings.token_type_embeddings.weight, encoder.layer.*.intermediate.dense.bias, embeddings.LayerNorm.bias, encoder.layer.*.attention.output.LayerNorm.bias, embeddings.position_embeddings.weight, encoder.layer.*.output.dense.weight, pooler.dense.weight, encoder.layer.*.intermediate.dense.weight, encoder.layer.*.attention.output.dense.weight, encoder.layer.*.attention.output.dense.bias, embeddings.word_embeddings.weight, encoder.layer.*.attention.self.key.bias, encoder.layer.*.output.LayerNorm.weight, encoder.layer.*.attention.self.query.weight, encoder.layer.*.attention.self.query.bias, encoder.layer.*.attention.self.value.bias, encoder.layer.*.output.LayerNorm.bias, encoder.layer.*.attention.self.value.weight, pooler.dense.bias, embeddings.LayerNorm.weight\n",
      "The following layers were not sharded: encoder.layer.*.output.dense.bias, encoder.layer.*.attention.output.LayerNorm.weight, encoder.layer.*.attention.self.key.weight, embeddings.token_type_embeddings.weight, encoder.layer.*.intermediate.dense.bias, embeddings.LayerNorm.bias, encoder.layer.*.attention.output.LayerNorm.bias, embeddings.position_embeddings.weight, encoder.layer.*.output.dense.weight, pooler.dense.weight, encoder.layer.*.intermediate.dense.weight, encoder.layer.*.attention.output.dense.weight, encoder.layer.*.attention.output.dense.bias, embeddings.word_embeddings.weight, encoder.layer.*.attention.self.key.bias, encoder.layer.*.output.LayerNorm.weight, encoder.layer.*.attention.self.query.weight, encoder.layer.*.attention.self.query.bias, encoder.layer.*.attention.self.value.bias, encoder.layer.*.output.LayerNorm.bias, encoder.layer.*.attention.self.value.weight, pooler.dense.bias, embeddings.LayerNorm.weight\n"
     ]
    },
    {
     "name": "stdout",
     "output_type": "stream",
     "text": [
      "\n",
      "Procesando Pregunta 5/10: '¿Cuántos entornos necesita un pipeline típico de LLMOps y cómo se mane...'\n"
     ]
    },
    {
     "name": "stderr",
     "output_type": "stream",
     "text": [
      "The following layers were not sharded: encoder.layer.*.output.dense.bias, encoder.layer.*.attention.output.LayerNorm.weight, encoder.layer.*.attention.self.key.weight, embeddings.token_type_embeddings.weight, encoder.layer.*.intermediate.dense.bias, embeddings.LayerNorm.bias, encoder.layer.*.attention.output.LayerNorm.bias, embeddings.position_embeddings.weight, encoder.layer.*.output.dense.weight, pooler.dense.weight, encoder.layer.*.intermediate.dense.weight, encoder.layer.*.attention.output.dense.weight, encoder.layer.*.attention.output.dense.bias, embeddings.word_embeddings.weight, encoder.layer.*.attention.self.key.bias, encoder.layer.*.output.LayerNorm.weight, encoder.layer.*.attention.self.query.weight, encoder.layer.*.attention.self.query.bias, encoder.layer.*.attention.self.value.bias, encoder.layer.*.output.LayerNorm.bias, encoder.layer.*.attention.self.value.weight, pooler.dense.bias, embeddings.LayerNorm.weight\n",
      "The following layers were not sharded: encoder.layer.*.output.dense.bias, encoder.layer.*.attention.output.LayerNorm.weight, encoder.layer.*.attention.self.key.weight, embeddings.token_type_embeddings.weight, encoder.layer.*.intermediate.dense.bias, embeddings.LayerNorm.bias, encoder.layer.*.attention.output.LayerNorm.bias, embeddings.position_embeddings.weight, encoder.layer.*.output.dense.weight, pooler.dense.weight, encoder.layer.*.intermediate.dense.weight, encoder.layer.*.attention.output.dense.weight, encoder.layer.*.attention.output.dense.bias, embeddings.word_embeddings.weight, encoder.layer.*.attention.self.key.bias, encoder.layer.*.output.LayerNorm.weight, encoder.layer.*.attention.self.query.weight, encoder.layer.*.attention.self.query.bias, encoder.layer.*.attention.self.value.bias, encoder.layer.*.output.LayerNorm.bias, encoder.layer.*.attention.self.value.weight, pooler.dense.bias, embeddings.LayerNorm.weight\n",
      "The following layers were not sharded: encoder.layer.*.output.dense.bias, encoder.layer.*.attention.output.LayerNorm.weight, encoder.layer.*.attention.self.key.weight, embeddings.token_type_embeddings.weight, encoder.layer.*.intermediate.dense.bias, embeddings.LayerNorm.bias, encoder.layer.*.attention.output.LayerNorm.bias, embeddings.position_embeddings.weight, encoder.layer.*.output.dense.weight, pooler.dense.weight, encoder.layer.*.intermediate.dense.weight, encoder.layer.*.attention.output.dense.weight, encoder.layer.*.attention.output.dense.bias, embeddings.word_embeddings.weight, encoder.layer.*.attention.self.key.bias, encoder.layer.*.output.LayerNorm.weight, encoder.layer.*.attention.self.query.weight, encoder.layer.*.attention.self.query.bias, encoder.layer.*.attention.self.value.bias, encoder.layer.*.output.LayerNorm.bias, encoder.layer.*.attention.self.value.weight, pooler.dense.bias, embeddings.LayerNorm.weight\n"
     ]
    },
    {
     "name": "stdout",
     "output_type": "stream",
     "text": [
      "\n",
      "Procesando Pregunta 6/10: '¿Qué técnica permite a los modelos LLM realizar tareas sin necesidad d...'\n"
     ]
    },
    {
     "name": "stderr",
     "output_type": "stream",
     "text": [
      "The following layers were not sharded: encoder.layer.*.output.dense.bias, encoder.layer.*.attention.output.LayerNorm.weight, encoder.layer.*.attention.self.key.weight, embeddings.token_type_embeddings.weight, encoder.layer.*.intermediate.dense.bias, embeddings.LayerNorm.bias, encoder.layer.*.attention.output.LayerNorm.bias, embeddings.position_embeddings.weight, encoder.layer.*.output.dense.weight, pooler.dense.weight, encoder.layer.*.intermediate.dense.weight, encoder.layer.*.attention.output.dense.weight, encoder.layer.*.attention.output.dense.bias, embeddings.word_embeddings.weight, encoder.layer.*.attention.self.key.bias, encoder.layer.*.output.LayerNorm.weight, encoder.layer.*.attention.self.query.weight, encoder.layer.*.attention.self.query.bias, encoder.layer.*.attention.self.value.bias, encoder.layer.*.output.LayerNorm.bias, encoder.layer.*.attention.self.value.weight, pooler.dense.bias, embeddings.LayerNorm.weight\n",
      "The following layers were not sharded: encoder.layer.*.output.dense.bias, encoder.layer.*.attention.output.LayerNorm.weight, encoder.layer.*.attention.self.key.weight, embeddings.token_type_embeddings.weight, encoder.layer.*.intermediate.dense.bias, embeddings.LayerNorm.bias, encoder.layer.*.attention.output.LayerNorm.bias, embeddings.position_embeddings.weight, encoder.layer.*.output.dense.weight, pooler.dense.weight, encoder.layer.*.intermediate.dense.weight, encoder.layer.*.attention.output.dense.weight, encoder.layer.*.attention.output.dense.bias, embeddings.word_embeddings.weight, encoder.layer.*.attention.self.key.bias, encoder.layer.*.output.LayerNorm.weight, encoder.layer.*.attention.self.query.weight, encoder.layer.*.attention.self.query.bias, encoder.layer.*.attention.self.value.bias, encoder.layer.*.output.LayerNorm.bias, encoder.layer.*.attention.self.value.weight, pooler.dense.bias, embeddings.LayerNorm.weight\n",
      "The following layers were not sharded: encoder.layer.*.output.dense.bias, encoder.layer.*.attention.output.LayerNorm.weight, encoder.layer.*.attention.self.key.weight, embeddings.token_type_embeddings.weight, encoder.layer.*.intermediate.dense.bias, embeddings.LayerNorm.bias, encoder.layer.*.attention.output.LayerNorm.bias, embeddings.position_embeddings.weight, encoder.layer.*.output.dense.weight, pooler.dense.weight, encoder.layer.*.intermediate.dense.weight, encoder.layer.*.attention.output.dense.weight, encoder.layer.*.attention.output.dense.bias, embeddings.word_embeddings.weight, encoder.layer.*.attention.self.key.bias, encoder.layer.*.output.LayerNorm.weight, encoder.layer.*.attention.self.query.weight, encoder.layer.*.attention.self.query.bias, encoder.layer.*.attention.self.value.bias, encoder.layer.*.output.LayerNorm.bias, encoder.layer.*.attention.self.value.weight, pooler.dense.bias, embeddings.LayerNorm.weight\n"
     ]
    },
    {
     "name": "stdout",
     "output_type": "stream",
     "text": [
      "\n",
      "Procesando Pregunta 7/10: '¿Qué mide la métrica de LLMs Perplexity?...'\n"
     ]
    },
    {
     "name": "stderr",
     "output_type": "stream",
     "text": [
      "The following layers were not sharded: encoder.layer.*.output.dense.bias, encoder.layer.*.attention.output.LayerNorm.weight, encoder.layer.*.attention.self.key.weight, embeddings.token_type_embeddings.weight, encoder.layer.*.intermediate.dense.bias, embeddings.LayerNorm.bias, encoder.layer.*.attention.output.LayerNorm.bias, embeddings.position_embeddings.weight, encoder.layer.*.output.dense.weight, pooler.dense.weight, encoder.layer.*.intermediate.dense.weight, encoder.layer.*.attention.output.dense.weight, encoder.layer.*.attention.output.dense.bias, embeddings.word_embeddings.weight, encoder.layer.*.attention.self.key.bias, encoder.layer.*.output.LayerNorm.weight, encoder.layer.*.attention.self.query.weight, encoder.layer.*.attention.self.query.bias, encoder.layer.*.attention.self.value.bias, encoder.layer.*.output.LayerNorm.bias, encoder.layer.*.attention.self.value.weight, pooler.dense.bias, embeddings.LayerNorm.weight\n",
      "The following layers were not sharded: encoder.layer.*.output.dense.bias, encoder.layer.*.attention.output.LayerNorm.weight, encoder.layer.*.attention.self.key.weight, embeddings.token_type_embeddings.weight, encoder.layer.*.intermediate.dense.bias, embeddings.LayerNorm.bias, encoder.layer.*.attention.output.LayerNorm.bias, embeddings.position_embeddings.weight, encoder.layer.*.output.dense.weight, pooler.dense.weight, encoder.layer.*.intermediate.dense.weight, encoder.layer.*.attention.output.dense.weight, encoder.layer.*.attention.output.dense.bias, embeddings.word_embeddings.weight, encoder.layer.*.attention.self.key.bias, encoder.layer.*.output.LayerNorm.weight, encoder.layer.*.attention.self.query.weight, encoder.layer.*.attention.self.query.bias, encoder.layer.*.attention.self.value.bias, encoder.layer.*.output.LayerNorm.bias, encoder.layer.*.attention.self.value.weight, pooler.dense.bias, embeddings.LayerNorm.weight\n",
      "The following layers were not sharded: encoder.layer.*.output.dense.bias, encoder.layer.*.attention.output.LayerNorm.weight, encoder.layer.*.attention.self.key.weight, embeddings.token_type_embeddings.weight, encoder.layer.*.intermediate.dense.bias, embeddings.LayerNorm.bias, encoder.layer.*.attention.output.LayerNorm.bias, embeddings.position_embeddings.weight, encoder.layer.*.output.dense.weight, pooler.dense.weight, encoder.layer.*.intermediate.dense.weight, encoder.layer.*.attention.output.dense.weight, encoder.layer.*.attention.output.dense.bias, embeddings.word_embeddings.weight, encoder.layer.*.attention.self.key.bias, encoder.layer.*.output.LayerNorm.weight, encoder.layer.*.attention.self.query.weight, encoder.layer.*.attention.self.query.bias, encoder.layer.*.attention.self.value.bias, encoder.layer.*.output.LayerNorm.bias, encoder.layer.*.attention.self.value.weight, pooler.dense.bias, embeddings.LayerNorm.weight\n"
     ]
    },
    {
     "name": "stdout",
     "output_type": "stream",
     "text": [
      "\n",
      "Procesando Pregunta 8/10: '¿Cómo se evalúan los LLMs y sus prompts?...'\n"
     ]
    },
    {
     "name": "stderr",
     "output_type": "stream",
     "text": [
      "The following layers were not sharded: encoder.layer.*.output.dense.bias, encoder.layer.*.attention.output.LayerNorm.weight, encoder.layer.*.attention.self.key.weight, embeddings.token_type_embeddings.weight, encoder.layer.*.intermediate.dense.bias, embeddings.LayerNorm.bias, encoder.layer.*.attention.output.LayerNorm.bias, embeddings.position_embeddings.weight, encoder.layer.*.output.dense.weight, pooler.dense.weight, encoder.layer.*.intermediate.dense.weight, encoder.layer.*.attention.output.dense.weight, encoder.layer.*.attention.output.dense.bias, embeddings.word_embeddings.weight, encoder.layer.*.attention.self.key.bias, encoder.layer.*.output.LayerNorm.weight, encoder.layer.*.attention.self.query.weight, encoder.layer.*.attention.self.query.bias, encoder.layer.*.attention.self.value.bias, encoder.layer.*.output.LayerNorm.bias, encoder.layer.*.attention.self.value.weight, pooler.dense.bias, embeddings.LayerNorm.weight\n",
      "The following layers were not sharded: encoder.layer.*.output.dense.bias, encoder.layer.*.attention.output.LayerNorm.weight, encoder.layer.*.attention.self.key.weight, embeddings.token_type_embeddings.weight, encoder.layer.*.intermediate.dense.bias, embeddings.LayerNorm.bias, encoder.layer.*.attention.output.LayerNorm.bias, embeddings.position_embeddings.weight, encoder.layer.*.output.dense.weight, pooler.dense.weight, encoder.layer.*.intermediate.dense.weight, encoder.layer.*.attention.output.dense.weight, encoder.layer.*.attention.output.dense.bias, embeddings.word_embeddings.weight, encoder.layer.*.attention.self.key.bias, encoder.layer.*.output.LayerNorm.weight, encoder.layer.*.attention.self.query.weight, encoder.layer.*.attention.self.query.bias, encoder.layer.*.attention.self.value.bias, encoder.layer.*.output.LayerNorm.bias, encoder.layer.*.attention.self.value.weight, pooler.dense.bias, embeddings.LayerNorm.weight\n",
      "The following layers were not sharded: encoder.layer.*.output.dense.bias, encoder.layer.*.attention.output.LayerNorm.weight, encoder.layer.*.attention.self.key.weight, embeddings.token_type_embeddings.weight, encoder.layer.*.intermediate.dense.bias, embeddings.LayerNorm.bias, encoder.layer.*.attention.output.LayerNorm.bias, embeddings.position_embeddings.weight, encoder.layer.*.output.dense.weight, pooler.dense.weight, encoder.layer.*.intermediate.dense.weight, encoder.layer.*.attention.output.dense.weight, encoder.layer.*.attention.output.dense.bias, embeddings.word_embeddings.weight, encoder.layer.*.attention.self.key.bias, encoder.layer.*.output.LayerNorm.weight, encoder.layer.*.attention.self.query.weight, encoder.layer.*.attention.self.query.bias, encoder.layer.*.attention.self.value.bias, encoder.layer.*.output.LayerNorm.bias, encoder.layer.*.attention.self.value.weight, pooler.dense.bias, embeddings.LayerNorm.weight\n"
     ]
    },
    {
     "name": "stdout",
     "output_type": "stream",
     "text": [
      "\n",
      "Procesando Pregunta 9/10: '¿Cuáles son algunas técnicas de optimización postentrenamiento para mo...'\n"
     ]
    },
    {
     "name": "stderr",
     "output_type": "stream",
     "text": [
      "The following layers were not sharded: encoder.layer.*.output.dense.bias, encoder.layer.*.attention.output.LayerNorm.weight, encoder.layer.*.attention.self.key.weight, embeddings.token_type_embeddings.weight, encoder.layer.*.intermediate.dense.bias, embeddings.LayerNorm.bias, encoder.layer.*.attention.output.LayerNorm.bias, embeddings.position_embeddings.weight, encoder.layer.*.output.dense.weight, pooler.dense.weight, encoder.layer.*.intermediate.dense.weight, encoder.layer.*.attention.output.dense.weight, encoder.layer.*.attention.output.dense.bias, embeddings.word_embeddings.weight, encoder.layer.*.attention.self.key.bias, encoder.layer.*.output.LayerNorm.weight, encoder.layer.*.attention.self.query.weight, encoder.layer.*.attention.self.query.bias, encoder.layer.*.attention.self.value.bias, encoder.layer.*.output.LayerNorm.bias, encoder.layer.*.attention.self.value.weight, pooler.dense.bias, embeddings.LayerNorm.weight\n",
      "The following layers were not sharded: encoder.layer.*.output.dense.bias, encoder.layer.*.attention.output.LayerNorm.weight, encoder.layer.*.attention.self.key.weight, embeddings.token_type_embeddings.weight, encoder.layer.*.intermediate.dense.bias, embeddings.LayerNorm.bias, encoder.layer.*.attention.output.LayerNorm.bias, embeddings.position_embeddings.weight, encoder.layer.*.output.dense.weight, pooler.dense.weight, encoder.layer.*.intermediate.dense.weight, encoder.layer.*.attention.output.dense.weight, encoder.layer.*.attention.output.dense.bias, embeddings.word_embeddings.weight, encoder.layer.*.attention.self.key.bias, encoder.layer.*.output.LayerNorm.weight, encoder.layer.*.attention.self.query.weight, encoder.layer.*.attention.self.query.bias, encoder.layer.*.attention.self.value.bias, encoder.layer.*.output.LayerNorm.bias, encoder.layer.*.attention.self.value.weight, pooler.dense.bias, embeddings.LayerNorm.weight\n",
      "The following layers were not sharded: encoder.layer.*.output.dense.bias, encoder.layer.*.attention.output.LayerNorm.weight, encoder.layer.*.attention.self.key.weight, embeddings.token_type_embeddings.weight, encoder.layer.*.intermediate.dense.bias, embeddings.LayerNorm.bias, encoder.layer.*.attention.output.LayerNorm.bias, embeddings.position_embeddings.weight, encoder.layer.*.output.dense.weight, pooler.dense.weight, encoder.layer.*.intermediate.dense.weight, encoder.layer.*.attention.output.dense.weight, encoder.layer.*.attention.output.dense.bias, embeddings.word_embeddings.weight, encoder.layer.*.attention.self.key.bias, encoder.layer.*.output.LayerNorm.weight, encoder.layer.*.attention.self.query.weight, encoder.layer.*.attention.self.query.bias, encoder.layer.*.attention.self.value.bias, encoder.layer.*.output.LayerNorm.bias, encoder.layer.*.attention.self.value.weight, pooler.dense.bias, embeddings.LayerNorm.weight\n"
     ]
    },
    {
     "name": "stdout",
     "output_type": "stream",
     "text": [
      "\n",
      "Procesando Pregunta 10/10: '¿Por qué es importante el monitoreo en un entorno de producción con mo...'\n"
     ]
    },
    {
     "name": "stderr",
     "output_type": "stream",
     "text": [
      "The following layers were not sharded: encoder.layer.*.output.dense.bias, encoder.layer.*.attention.output.LayerNorm.weight, encoder.layer.*.attention.self.key.weight, embeddings.token_type_embeddings.weight, encoder.layer.*.intermediate.dense.bias, embeddings.LayerNorm.bias, encoder.layer.*.attention.output.LayerNorm.bias, embeddings.position_embeddings.weight, encoder.layer.*.output.dense.weight, pooler.dense.weight, encoder.layer.*.intermediate.dense.weight, encoder.layer.*.attention.output.dense.weight, encoder.layer.*.attention.output.dense.bias, embeddings.word_embeddings.weight, encoder.layer.*.attention.self.key.bias, encoder.layer.*.output.LayerNorm.weight, encoder.layer.*.attention.self.query.weight, encoder.layer.*.attention.self.query.bias, encoder.layer.*.attention.self.value.bias, encoder.layer.*.output.LayerNorm.bias, encoder.layer.*.attention.self.value.weight, pooler.dense.bias, embeddings.LayerNorm.weight\n",
      "The following layers were not sharded: encoder.layer.*.output.dense.bias, encoder.layer.*.attention.output.LayerNorm.weight, encoder.layer.*.attention.self.key.weight, embeddings.token_type_embeddings.weight, encoder.layer.*.intermediate.dense.bias, embeddings.LayerNorm.bias, encoder.layer.*.attention.output.LayerNorm.bias, embeddings.position_embeddings.weight, encoder.layer.*.output.dense.weight, pooler.dense.weight, encoder.layer.*.intermediate.dense.weight, encoder.layer.*.attention.output.dense.weight, encoder.layer.*.attention.output.dense.bias, embeddings.word_embeddings.weight, encoder.layer.*.attention.self.key.bias, encoder.layer.*.output.LayerNorm.weight, encoder.layer.*.attention.self.query.weight, encoder.layer.*.attention.self.query.bias, encoder.layer.*.attention.self.value.bias, encoder.layer.*.output.LayerNorm.bias, encoder.layer.*.attention.self.value.weight, pooler.dense.bias, embeddings.LayerNorm.weight\n",
      "The following layers were not sharded: encoder.layer.*.output.dense.bias, encoder.layer.*.attention.output.LayerNorm.weight, encoder.layer.*.attention.self.key.weight, embeddings.token_type_embeddings.weight, encoder.layer.*.intermediate.dense.bias, embeddings.LayerNorm.bias, encoder.layer.*.attention.output.LayerNorm.bias, embeddings.position_embeddings.weight, encoder.layer.*.output.dense.weight, pooler.dense.weight, encoder.layer.*.intermediate.dense.weight, encoder.layer.*.attention.output.dense.weight, encoder.layer.*.attention.output.dense.bias, embeddings.word_embeddings.weight, encoder.layer.*.attention.self.key.bias, encoder.layer.*.output.LayerNorm.weight, encoder.layer.*.attention.self.query.weight, encoder.layer.*.attention.self.query.bias, encoder.layer.*.attention.self.value.bias, encoder.layer.*.output.LayerNorm.bias, encoder.layer.*.attention.self.value.weight, pooler.dense.bias, embeddings.LayerNorm.weight\n"
     ]
    }
   ],
   "source": [
    "resultados = []\n",
    "for i, row in df_preguntas_respuestas.iterrows():\n",
    "    pregunta = str(row[\"Pregunta\"])\n",
    "    respuesta_humana = str(row[\"Respuesta\"]) # La respuesta de referencia humana del Excel\n",
    "\n",
    "    print(f\"\\nProcesando Pregunta {i+1}/{min(10, len(df_preguntas_respuestas))}: '{pregunta[:70]}...'\")\n",
    "\n",
    "    # --- GENERACIÓN DE RESPUESTA DEL MODELO Y CÁLCULO DE SIMILARIDAD ---\n",
    "    query_embedding_val = text_embedding(pregunta)\n",
    "    query_vector = np.array(query_embedding_val)\n",
    "\n",
    "    def cosine_similarity_for_chunks(row_embedding_chunk):\n",
    "        denominator1 = np.linalg.norm(row_embedding_chunk)\n",
    "        denominator2 = np.linalg.norm(query_vector)\n",
    "        dot_prod = np.dot(row_embedding_chunk, query_vector)\n",
    "        if denominator1 == 0 or denominator2 == 0:\n",
    "            return 0.0\n",
    "        return dot_prod / (denominator1 * denominator2)\n",
    "\n",
    "    top_matched_indices = (\n",
    "        df_vector_store[\"Embedding\"]\n",
    "        .apply(cosine_similarity_for_chunks)\n",
    "        .sort_values(ascending=False)[:top_join]\n",
    "        .index\n",
    "    )\n",
    "    context_chunks = list(df_vector_store.loc[top_matched_indices, 'Chunks'])\n",
    "\n",
    "    custom_prompt = prompt_system.format(source = str(context_chunks))\n",
    "\n",
    "    completion = client.chat.completions.create(\n",
    "        model=modelo_banco,\n",
    "        temperature = temperature_,\n",
    "        messages=[\n",
    "            {\"role\": \"system\", \"content\": custom_prompt},\n",
    "            {\"role\": \"user\", \"content\": pregunta}\n",
    "        ]\n",
    "    )\n",
    "    respuesta_modelo = completion.choices[0].message.content\n",
    "\n",
    "    # Calcular la similaridad entre la respuesta del modelo y la respuesta humana de referencia\n",
    "    def cosine_final(v1, v2):\n",
    "        norm_v1 = np.linalg.norm(v1)\n",
    "        norm_v2 = np.linalg.norm(v2)\n",
    "        if norm_v1 == 0 or norm_v2 == 0:\n",
    "            return 0.0\n",
    "        return np.dot(v1, v2) / (norm_v1 * norm_v2)\n",
    "\n",
    "    emb_modelo = np.array(text_embedding(respuesta_modelo))\n",
    "    emb_humana = np.array(text_embedding(respuesta_humana))\n",
    "\n",
    "    similitud = cosine_final(emb_modelo, emb_humana)\n",
    "\n",
    "    # --- CÁLCULO DE LAS OTRAS MÉTRICAS (AHORA SOBRE LA RESPUESTA DEL MODELO) ---\n",
    "    coherencia = medir_coherencia(pregunta, respuesta_modelo) # Coherencia de la respuesta del modelo\n",
    "    personalizacion = medir_personalizacion(perfil_usuario, respuesta_modelo) # Personalización de la respuesta del modelo\n",
    "    fluidez = medir_fluidez(respuesta_modelo) # Fluidez de la respuesta del modelo\n",
    "    alucinacion = medir_alucinacion(respuesta_modelo, contexto_generico) # Alucinación de la respuesta del modelo\n",
    "\n",
    "    # Agregando resultados al listado final\n",
    "    resultados.append({\n",
    "        \"Pregunta\": pregunta,\n",
    "        \"Respuesta_Humana\": respuesta_humana,\n",
    "        \"Respuesta_Modelo_Generada\": respuesta_modelo,\n",
    "        \"Coherencia\": round(coherencia, 3),\n",
    "        \"Personalización\": round(personalizacion, 3),\n",
    "        \"Fluidez\": round(fluidez, 2),\n",
    "        \"Alucinación\": round(alucinacion, 3),\n",
    "        \"Similaridad_Modelo_Humana\": round(similitud, 3)\n",
    "    })"
   ]
  },
  {
   "cell_type": "code",
   "execution_count": 13,
   "metadata": {},
   "outputs": [
    {
     "data": {
      "text/html": [
       "<div>\n",
       "<style scoped>\n",
       "    .dataframe tbody tr th:only-of-type {\n",
       "        vertical-align: middle;\n",
       "    }\n",
       "\n",
       "    .dataframe tbody tr th {\n",
       "        vertical-align: top;\n",
       "    }\n",
       "\n",
       "    .dataframe thead th {\n",
       "        text-align: right;\n",
       "    }\n",
       "</style>\n",
       "<table border=\"1\" class=\"dataframe\">\n",
       "  <thead>\n",
       "    <tr style=\"text-align: right;\">\n",
       "      <th></th>\n",
       "      <th>Pregunta</th>\n",
       "      <th>Respuesta_Humana</th>\n",
       "      <th>Respuesta_Modelo_Generada</th>\n",
       "      <th>Coherencia</th>\n",
       "      <th>Personalización</th>\n",
       "      <th>Fluidez</th>\n",
       "      <th>Alucinación</th>\n",
       "      <th>Similaridad_Modelo_Humana</th>\n",
       "    </tr>\n",
       "  </thead>\n",
       "  <tbody>\n",
       "    <tr>\n",
       "      <th>0</th>\n",
       "      <td>¿Qué son los LLMOps?</td>\n",
       "      <td>Los LLMOps son un marco de herramientas y mejo...</td>\n",
       "      <td>Los LLMOps, o \"Large Language Model Operations...</td>\n",
       "      <td>0.750</td>\n",
       "      <td>0.790</td>\n",
       "      <td>22.35</td>\n",
       "      <td>0.829</td>\n",
       "      <td>0.914</td>\n",
       "    </tr>\n",
       "    <tr>\n",
       "      <th>1</th>\n",
       "      <td>¿Por qué son importantes los LLMOps?</td>\n",
       "      <td>Los LLMOps son esenciales para superar desafío...</td>\n",
       "      <td>Los LLMOps, que son las operaciones relacionad...</td>\n",
       "      <td>0.769</td>\n",
       "      <td>0.788</td>\n",
       "      <td>24.04</td>\n",
       "      <td>0.811</td>\n",
       "      <td>0.918</td>\n",
       "    </tr>\n",
       "    <tr>\n",
       "      <th>2</th>\n",
       "      <td>¿Cuáles son las etapas típicas de un flujo de ...</td>\n",
       "      <td>Las etapas incluyen: recolección, preparación ...</td>\n",
       "      <td>Las etapas típicas de un flujo de trabajo LLMO...</td>\n",
       "      <td>0.803</td>\n",
       "      <td>0.779</td>\n",
       "      <td>35.62</td>\n",
       "      <td>0.811</td>\n",
       "      <td>0.918</td>\n",
       "    </tr>\n",
       "    <tr>\n",
       "      <th>3</th>\n",
       "      <td>¿Qué implica la etapa de recolección y prepara...</td>\n",
       "      <td>Consiste en obtener datos, garantizar su calid...</td>\n",
       "      <td>La etapa de recolección y preparación de datos...</td>\n",
       "      <td>0.820</td>\n",
       "      <td>0.788</td>\n",
       "      <td>38.77</td>\n",
       "      <td>0.800</td>\n",
       "      <td>0.897</td>\n",
       "    </tr>\n",
       "    <tr>\n",
       "      <th>4</th>\n",
       "      <td>¿Cuántos entornos necesita un pipeline típico ...</td>\n",
       "      <td>Un pipeline típico de LLMOps necesita tres ent...</td>\n",
       "      <td>Un pipeline típico de LLMOps necesita tres ent...</td>\n",
       "      <td>0.800</td>\n",
       "      <td>0.783</td>\n",
       "      <td>26.52</td>\n",
       "      <td>0.803</td>\n",
       "      <td>0.956</td>\n",
       "    </tr>\n",
       "    <tr>\n",
       "      <th>5</th>\n",
       "      <td>¿Qué técnica permite a los modelos LLM realiza...</td>\n",
       "      <td>La técnica es el aprendizaje cero (Zero-Shot L...</td>\n",
       "      <td>La técnica que permite a los modelos de lengua...</td>\n",
       "      <td>0.831</td>\n",
       "      <td>0.795</td>\n",
       "      <td>28.22</td>\n",
       "      <td>0.804</td>\n",
       "      <td>0.954</td>\n",
       "    </tr>\n",
       "    <tr>\n",
       "      <th>6</th>\n",
       "      <td>¿Qué mide la métrica de LLMs Perplexity?</td>\n",
       "      <td>Mide la sorpresa del modelo ante nuevos datos....</td>\n",
       "      <td>La métrica de Perplexity se utiliza para evalu...</td>\n",
       "      <td>0.805</td>\n",
       "      <td>0.815</td>\n",
       "      <td>35.69</td>\n",
       "      <td>0.840</td>\n",
       "      <td>0.892</td>\n",
       "    </tr>\n",
       "    <tr>\n",
       "      <th>7</th>\n",
       "      <td>¿Cómo se evalúan los LLMs y sus prompts?</td>\n",
       "      <td>Se utilizan métricas como Perplexity, BLEU, RO...</td>\n",
       "      <td>Evaluar los modelos de lenguaje grandes (LLMs)...</td>\n",
       "      <td>0.779</td>\n",
       "      <td>0.791</td>\n",
       "      <td>31.77</td>\n",
       "      <td>0.801</td>\n",
       "      <td>0.893</td>\n",
       "    </tr>\n",
       "    <tr>\n",
       "      <th>8</th>\n",
       "      <td>¿Cuáles son algunas técnicas de optimización p...</td>\n",
       "      <td>Algunas técnicas son la destilación, la cuanti...</td>\n",
       "      <td>Existen varias técnicas de optimización posten...</td>\n",
       "      <td>0.826</td>\n",
       "      <td>0.789</td>\n",
       "      <td>30.62</td>\n",
       "      <td>0.803</td>\n",
       "      <td>0.936</td>\n",
       "    </tr>\n",
       "    <tr>\n",
       "      <th>9</th>\n",
       "      <td>¿Por qué es importante el monitoreo en un ento...</td>\n",
       "      <td>Porque la distribución de datos cambia con el ...</td>\n",
       "      <td>El monitoreo en un entorno de producción con m...</td>\n",
       "      <td>0.809</td>\n",
       "      <td>0.789</td>\n",
       "      <td>29.12</td>\n",
       "      <td>0.801</td>\n",
       "      <td>0.913</td>\n",
       "    </tr>\n",
       "  </tbody>\n",
       "</table>\n",
       "</div>"
      ],
      "text/plain": [
       "                                            Pregunta  \\\n",
       "0                               ¿Qué son los LLMOps?   \n",
       "1               ¿Por qué son importantes los LLMOps?   \n",
       "2  ¿Cuáles son las etapas típicas de un flujo de ...   \n",
       "3  ¿Qué implica la etapa de recolección y prepara...   \n",
       "4  ¿Cuántos entornos necesita un pipeline típico ...   \n",
       "5  ¿Qué técnica permite a los modelos LLM realiza...   \n",
       "6           ¿Qué mide la métrica de LLMs Perplexity?   \n",
       "7           ¿Cómo se evalúan los LLMs y sus prompts?   \n",
       "8  ¿Cuáles son algunas técnicas de optimización p...   \n",
       "9  ¿Por qué es importante el monitoreo en un ento...   \n",
       "\n",
       "                                    Respuesta_Humana  \\\n",
       "0  Los LLMOps son un marco de herramientas y mejo...   \n",
       "1  Los LLMOps son esenciales para superar desafío...   \n",
       "2  Las etapas incluyen: recolección, preparación ...   \n",
       "3  Consiste en obtener datos, garantizar su calid...   \n",
       "4  Un pipeline típico de LLMOps necesita tres ent...   \n",
       "5  La técnica es el aprendizaje cero (Zero-Shot L...   \n",
       "6  Mide la sorpresa del modelo ante nuevos datos....   \n",
       "7  Se utilizan métricas como Perplexity, BLEU, RO...   \n",
       "8  Algunas técnicas son la destilación, la cuanti...   \n",
       "9  Porque la distribución de datos cambia con el ...   \n",
       "\n",
       "                           Respuesta_Modelo_Generada  Coherencia  \\\n",
       "0  Los LLMOps, o \"Large Language Model Operations...       0.750   \n",
       "1  Los LLMOps, que son las operaciones relacionad...       0.769   \n",
       "2  Las etapas típicas de un flujo de trabajo LLMO...       0.803   \n",
       "3  La etapa de recolección y preparación de datos...       0.820   \n",
       "4  Un pipeline típico de LLMOps necesita tres ent...       0.800   \n",
       "5  La técnica que permite a los modelos de lengua...       0.831   \n",
       "6  La métrica de Perplexity se utiliza para evalu...       0.805   \n",
       "7  Evaluar los modelos de lenguaje grandes (LLMs)...       0.779   \n",
       "8  Existen varias técnicas de optimización posten...       0.826   \n",
       "9  El monitoreo en un entorno de producción con m...       0.809   \n",
       "\n",
       "   Personalización  Fluidez  Alucinación  Similaridad_Modelo_Humana  \n",
       "0            0.790    22.35        0.829                      0.914  \n",
       "1            0.788    24.04        0.811                      0.918  \n",
       "2            0.779    35.62        0.811                      0.918  \n",
       "3            0.788    38.77        0.800                      0.897  \n",
       "4            0.783    26.52        0.803                      0.956  \n",
       "5            0.795    28.22        0.804                      0.954  \n",
       "6            0.815    35.69        0.840                      0.892  \n",
       "7            0.791    31.77        0.801                      0.893  \n",
       "8            0.789    30.62        0.803                      0.936  \n",
       "9            0.789    29.12        0.801                      0.913  "
      ]
     },
     "execution_count": 13,
     "metadata": {},
     "output_type": "execute_result"
    }
   ],
   "source": [
    "df_resultados = pd.DataFrame(resultados)\n",
    "df_resultados"
   ]
  },
  {
   "cell_type": "code",
   "execution_count": 14,
   "metadata": {},
   "outputs": [
    {
     "name": "stdout",
     "output_type": "stream",
     "text": [
      "Tasa de respuestas correctas:  70.0\n",
      "Tasa de respuestas coherentes: 70.0\n",
      "Tasa de respuestas personalización: 100.0\n",
      "Tasa de respuestas fluidas: 50.0\n",
      "Tasa de respuestas no alucinadas: 100.0\n"
     ]
    }
   ],
   "source": [
    "#min_F = df_resultados[\"Fluidez\"].min()\n",
    "#max_F = df_resultados[\"Fluidez\"].max()\n",
    "#df_resultados[\"Fluidez\"]  = (df_resultados[\"Fluidez\"] - min_F) / (max_F - min_F)\n",
    "\n",
    "tasa_respuestas_correctas = 100 * np.mean(df_resultados.apply(lambda row: 1 if row[\"Similaridad_Modelo_Humana\"]>=0.90 else 0, axis = 1))\n",
    "coherencia = 100 * np.mean(df_resultados.apply(lambda row: 1 if row[\"Coherencia\"]>=0.8 else 0, axis = 1))\n",
    "personalizacion = 100 * np.mean(df_resultados.apply(lambda row: 1 if row[\"Personalización\"]>=0.60 else 0, axis = 1))\n",
    "fluidez = 100 * np.mean(df_resultados.apply(lambda row: 1 if row[\"Fluidez\"]>=30 else 0, axis = 1))\n",
    "alucinacion = 100 * np.mean(df_resultados.apply(lambda row: 1 if row[\"Alucinación\"]>=0.70 else 0, axis = 1))\n",
    "\n",
    "print(\"Tasa de respuestas correctas: \",tasa_respuestas_correctas)\n",
    "print(\"Tasa de respuestas coherentes:\",coherencia)\n",
    "print(\"Tasa de respuestas personalización:\",personalizacion)\n",
    "print(\"Tasa de respuestas fluidas:\",fluidez)\n",
    "print(\"Tasa de respuestas no alucinadas:\",alucinacion)\n"
   ]
  },
  {
   "cell_type": "code",
   "execution_count": 15,
   "metadata": {},
   "outputs": [
    {
     "name": "stdout",
     "output_type": "stream",
     "text": [
      "La métrica es:  78.0\n"
     ]
    }
   ],
   "source": [
    "metric_ = 0.2* (tasa_respuestas_correctas+coherencia+personalizacion+fluidez+alucinacion)\n",
    "print(\"La métrica es: \",metric_)"
   ]
  },
  {
   "cell_type": "markdown",
   "metadata": {},
   "source": [
    "## PR"
   ]
  },
  {
   "cell_type": "markdown",
   "metadata": {},
   "source": [
    "## Asistent Building questions answers"
   ]
  },
  {
   "cell_type": "code",
   "execution_count": 16,
   "metadata": {},
   "outputs": [],
   "source": [
    "import pandas as pd\n",
    "import numpy as np\n",
    "import json\n",
    "from openai import AzureOpenAI\n",
    "import random"
   ]
  },
  {
   "cell_type": "code",
   "execution_count": 17,
   "metadata": {},
   "outputs": [
    {
     "data": {
      "text/html": [
       "<div>\n",
       "<style scoped>\n",
       "    .dataframe tbody tr th:only-of-type {\n",
       "        vertical-align: middle;\n",
       "    }\n",
       "\n",
       "    .dataframe tbody tr th {\n",
       "        vertical-align: top;\n",
       "    }\n",
       "\n",
       "    .dataframe thead th {\n",
       "        text-align: right;\n",
       "    }\n",
       "</style>\n",
       "<table border=\"1\" class=\"dataframe\">\n",
       "  <thead>\n",
       "    <tr style=\"text-align: right;\">\n",
       "      <th></th>\n",
       "      <th>Chunks</th>\n",
       "      <th>Metadata</th>\n",
       "      <th>Embedding</th>\n",
       "    </tr>\n",
       "  </thead>\n",
       "  <tbody>\n",
       "    <tr>\n",
       "      <th>0</th>\n",
       "      <td>Building Pipelines and Environments for  \\nLar...</td>\n",
       "      <td>{'producer': 'Adobe PDF Library 17.0', 'creato...</td>\n",
       "      <td>[-0.001881948, -0.012164683, 0.016830197, -0.0...</td>\n",
       "    </tr>\n",
       "    <tr>\n",
       "      <th>1</th>\n",
       "      <td>Contents\\nIntroduction to LLMOps 1\\nWhy LLMOps...</td>\n",
       "      <td>{'producer': 'Adobe PDF Library 17.0', 'creato...</td>\n",
       "      <td>[0.0030545578, -0.0043646125, -0.0022074673, -...</td>\n",
       "    </tr>\n",
       "  </tbody>\n",
       "</table>\n",
       "</div>"
      ],
      "text/plain": [
       "                                              Chunks  \\\n",
       "0  Building Pipelines and Environments for  \\nLar...   \n",
       "1  Contents\\nIntroduction to LLMOps 1\\nWhy LLMOps...   \n",
       "\n",
       "                                            Metadata  \\\n",
       "0  {'producer': 'Adobe PDF Library 17.0', 'creato...   \n",
       "1  {'producer': 'Adobe PDF Library 17.0', 'creato...   \n",
       "\n",
       "                                           Embedding  \n",
       "0  [-0.001881948, -0.012164683, 0.016830197, -0.0...  \n",
       "1  [0.0030545578, -0.0043646125, -0.0022074673, -...  "
      ]
     },
     "execution_count": 17,
     "metadata": {},
     "output_type": "execute_result"
    }
   ],
   "source": [
    "## parameters\n",
    "\n",
    "join_assistant = 5\n",
    "num_pares_a_generar = 10\n",
    "intentos_maximos_por_pregunta = 3 \n",
    "model_embedding = \"text-embedding-ada-002\"\n",
    "# modelo_banco = \"gpt-35-turbo-16k-PQR\"\n",
    "modelo_banco = \"gpt-4o-mini_clasificacion-PQRS\"\n",
    "temp_ = 0.7\n",
    "\n",
    "prompt_generacion_qa = \"\"\"\n",
    "Eres una Inteligencia Artificial experta en crear pares de preguntas y respuestas informativas, claras y concisas, basándote estrictamente en el contenido proporcionado. Tu objetivo es generar contenido nuevo y útil que un usuario podría preguntar sobre el tema, y responderlo con precisión.\n",
    "\n",
    "INSTRUCCIONES CLAVE:\n",
    "1.  **Analiza el Contenido:** Lee cuidadosamente los 'TEXTOS DE REFERENCIA' proporcionados.\n",
    "2.  **Emula el Estilo de Preguntas:** Crea preguntas que sean directas, informativas y del estilo de las que se harían en un contexto de asistente personal sobre temas técnicos, similar a \"¿Qué son los LLMOps?\" o \"¿Por qué son importantes?\". Evita preguntas demasiado abiertas o que requieran opiniones.\n",
    "3.  **Emula el Estilo de Respuestas:** Las respuestas deben ser directas, concisas, basadas EXCLUSIVAMENTE en los 'TEXTOS DE REFERENCIA', y con un lenguaje claro pero preciso. Si la pregunta requiere una explicación técnica, sé conciso y preciso, pero siempre buscando la claridad.\n",
    "4.  **Genera Contenido Nuevo:** Asegúrate de que las preguntas y sus respuestas sean ORIGINALES y no repitan textualmente las preguntas o respuestas que ya existen en el archivo 'preguntas_BOT.xlsx' (aunque traten temas similares, la formulación debe ser distinta). Intenta abordar diferentes aspectos o detalles dentro de los 'TEXTOS DE REFERENCIA'.\n",
    "5.  **Formato de Salida:** Para cada par, proporciona la Pregunta y luego la Respuesta en líneas separadas.\n",
    "    Ejemplo:\n",
    "    Pregunta: [Tu nueva pregunta aquí]?\n",
    "    Respuesta: [Tu nueva respuesta aquí].\n",
    "    Pregunta: [Tu siguiente nueva pregunta aquí]?\n",
    "    Respuesta: [Tu siguiente nueva pregunta aquí].\n",
    "\n",
    "TEXTOS DE REFERENCIA:\n",
    "{source_text}\n",
    "\n",
    "Ahora, genera {num_pares_a_generar} pares únicos de preguntas y respuestas basándote en estos textos y siguiendo todas las instrucciones.\n",
    "\"\"\"\n",
    "\n",
    "df_vector_store.head(2)"
   ]
  },
  {
   "cell_type": "code",
   "execution_count": 18,
   "metadata": {},
   "outputs": [
    {
     "name": "stdout",
     "output_type": "stream",
     "text": [
      "Enviando solicitud al LLM para generar 10 pares QA...\n",
      "Generación del LLM completada. Procesando pares QA...\n"
     ]
    }
   ],
   "source": [
    "# --- FUNCIÓN PARA GENERAR UN CONTEXTO A PARTIR DE CHUNKS SELECCIONADOS ---\n",
    "def obtener_contexto_para_generacion(df_vector_store, num_chunks=5):\n",
    "    \"\"\"\n",
    "    Selecciona un número de chunks aleatorios del df_vector_store para usar como contexto de generación.\n",
    "    Intentamos asegurar que los chunks sean diversos.\n",
    "    \"\"\"\n",
    "    if len(df_vector_store) < num_chunks:\n",
    "        return \"\\n\".join(df_vector_store['Chunks'].tolist())\n",
    "    else:\n",
    "        # Seleccionar chunks espaciados para mayor diversidad de temas\n",
    "        indices = np.linspace(0, len(df_vector_store) - 1, num_chunks, dtype=int)\n",
    "        selected_chunks = df_vector_store.loc[indices, 'Chunks'].tolist()\n",
    "        return \"\\n\".join(selected_chunks)\n",
    "\n",
    "# --- GENERACIÓN DE NUEVAS PREGUNTAS Y RESPUESTAS ---\n",
    "nuevos_pares_qa = []\n",
    "\n",
    "contexto_para_generacion = obtener_contexto_para_generacion(df_vector_store, num_chunks = join_assistant) # Ajustar según necesidad\n",
    "\n",
    "# Formatear el prompt de generación\n",
    "final_prompt_qa = prompt_generacion_qa.format(source_text=contexto_para_generacion, num_pares_a_generar = num_pares_a_generar)\n",
    "\n",
    "# Realizar una sola llamada al LLM para generar todos los pares\n",
    "print(\"Enviando solicitud al LLM para generar \" + str(num_pares_a_generar) + \" pares QA...\")\n",
    "try:\n",
    "    completion_qa = client.chat.completions.create(\n",
    "        model = modelo_banco,\n",
    "        temperature = temp_, \n",
    "        messages=[\n",
    "            {\"role\": \"system\", \"content\": final_prompt_qa}\n",
    "        ]\n",
    "    )\n",
    "    generated_text = completion_qa.choices[0].message.content\n",
    "    print(\"Generación del LLM completada. Procesando pares QA...\")\n",
    "\n",
    "    # --- PARSEO DE LAS RESPUESTAS GENERADAS ---\n",
    "    # Dividir el texto generado en líneas y buscar patrones \"Pregunta:\" y \"Respuesta:\"\n",
    "    lines = generated_text.split('\\n')\n",
    "    current_question = None\n",
    "    current_answer = None\n",
    "\n",
    "    for line in lines:\n",
    "        line = line.strip()\n",
    "        if line.startswith(\"Pregunta:\"):\n",
    "            if current_question and current_answer:\n",
    "                nuevos_pares_qa.append({\"Pregunta\": current_question.strip(), \"Respuesta\": current_answer.strip()})\n",
    "                if len(nuevos_pares_qa) >= num_pares_a_generar: # Si ya tenemos 10 pares, salimos\n",
    "                    break\n",
    "            current_question = line[len(\"Pregunta:\"):].strip()\n",
    "            current_answer = None # Resetear la respuesta\n",
    "        elif line.startswith(\"Respuesta:\"):\n",
    "            current_answer = line[len(\"Respuesta:\"):].strip()\n",
    "        elif current_question and current_answer is not None: # Si ya empezamos una respuesta, agregamos a la actual\n",
    "             current_answer += \" \" + line # Para respuestas de varias líneas\n",
    "\n",
    "\n",
    "    # Asegurarse de añadir el último par si existe\n",
    "    if current_question and current_answer and len(nuevos_pares_qa) < num_pares_a_generar:\n",
    "        nuevos_pares_qa.append({\"Pregunta\": current_question.strip(), \"Respuesta\": current_answer.strip()})\n",
    "\n",
    "\n",
    "except Exception as e:\n",
    "    print(f\"Error durante la generación o procesamiento de QA: {e}\")\n",
    "\n",
    "# Asegurarse de tener exactamente num_pares_a_generar si se generaron más o menos\n",
    "if len(nuevos_pares_qa) > num_pares_a_generar:\n",
    "    nuevos_pares_qa = nuevos_pares_qa[:num_pares_a_generar]\n",
    "elif len(nuevos_pares_qa) < num_pares_a_generar:\n",
    "    print(f\"Advertencia: Solo se pudieron generar {len(nuevos_pares_qa)} pares QA válidos de {num_pares_a_generar} solicitados.\")\n"
   ]
  },
  {
   "cell_type": "code",
   "execution_count": 19,
   "metadata": {},
   "outputs": [
    {
     "data": {
      "text/html": [
       "<div>\n",
       "<style scoped>\n",
       "    .dataframe tbody tr th:only-of-type {\n",
       "        vertical-align: middle;\n",
       "    }\n",
       "\n",
       "    .dataframe tbody tr th {\n",
       "        vertical-align: top;\n",
       "    }\n",
       "\n",
       "    .dataframe thead th {\n",
       "        text-align: right;\n",
       "    }\n",
       "</style>\n",
       "<table border=\"1\" class=\"dataframe\">\n",
       "  <thead>\n",
       "    <tr style=\"text-align: right;\">\n",
       "      <th></th>\n",
       "      <th>Pregunta</th>\n",
       "      <th>Respuesta</th>\n",
       "    </tr>\n",
       "  </thead>\n",
       "  <tbody>\n",
       "    <tr>\n",
       "      <th>0</th>\n",
       "      <td>¿Qué son los modelos de lenguaje de dominio es...</td>\n",
       "      <td>Los modelos de lenguaje de dominio específico ...</td>\n",
       "    </tr>\n",
       "    <tr>\n",
       "      <th>1</th>\n",
       "      <td>¿Cuáles son las implicaciones éticas de los mo...</td>\n",
       "      <td>Las implicaciones éticas de los modelos de len...</td>\n",
       "    </tr>\n",
       "    <tr>\n",
       "      <th>2</th>\n",
       "      <td>¿Qué es un entorno sandbox en el contexto de L...</td>\n",
       "      <td>Un entorno sandbox es un espacio de desarrollo...</td>\n",
       "    </tr>\n",
       "    <tr>\n",
       "      <th>3</th>\n",
       "      <td>¿Cuáles son los tres entornos necesarios para ...</td>\n",
       "      <td>Los tres entornos necesarios son el entorno sa...</td>\n",
       "    </tr>\n",
       "    <tr>\n",
       "      <th>4</th>\n",
       "      <td>¿Cómo se evalúan los modelos de lenguaje en té...</td>\n",
       "      <td>Los modelos de lenguaje se evalúan a través de...</td>\n",
       "    </tr>\n",
       "    <tr>\n",
       "      <th>5</th>\n",
       "      <td>¿Qué es la evaluación de recuperación en model...</td>\n",
       "      <td>La evaluación de recuperación implica calcular...</td>\n",
       "    </tr>\n",
       "    <tr>\n",
       "      <th>6</th>\n",
       "      <td>¿Qué significa el término \"fine-tuning\" en el ...</td>\n",
       "      <td>El \"fine-tuning\" se refiere al proceso de ajus...</td>\n",
       "    </tr>\n",
       "    <tr>\n",
       "      <th>7</th>\n",
       "      <td>¿Qué son los modelos de código abierto inspira...</td>\n",
       "      <td>Los modelos de código abierto inspirados en LL...</td>\n",
       "    </tr>\n",
       "    <tr>\n",
       "      <th>8</th>\n",
       "      <td>¿Cuál es la función de los modelos gestionados...</td>\n",
       "      <td>Los modelos gestionados por proveedores ofrece...</td>\n",
       "    </tr>\n",
       "    <tr>\n",
       "      <th>9</th>\n",
       "      <td>¿Qué es la evaluación de referencia en el cont...</td>\n",
       "      <td>La evaluación de referencia implica comparar e...</td>\n",
       "    </tr>\n",
       "  </tbody>\n",
       "</table>\n",
       "</div>"
      ],
      "text/plain": [
       "                                            Pregunta  \\\n",
       "0  ¿Qué son los modelos de lenguaje de dominio es...   \n",
       "1  ¿Cuáles son las implicaciones éticas de los mo...   \n",
       "2  ¿Qué es un entorno sandbox en el contexto de L...   \n",
       "3  ¿Cuáles son los tres entornos necesarios para ...   \n",
       "4  ¿Cómo se evalúan los modelos de lenguaje en té...   \n",
       "5  ¿Qué es la evaluación de recuperación en model...   \n",
       "6  ¿Qué significa el término \"fine-tuning\" en el ...   \n",
       "7  ¿Qué son los modelos de código abierto inspira...   \n",
       "8  ¿Cuál es la función de los modelos gestionados...   \n",
       "9  ¿Qué es la evaluación de referencia en el cont...   \n",
       "\n",
       "                                           Respuesta  \n",
       "0  Los modelos de lenguaje de dominio específico ...  \n",
       "1  Las implicaciones éticas de los modelos de len...  \n",
       "2  Un entorno sandbox es un espacio de desarrollo...  \n",
       "3  Los tres entornos necesarios son el entorno sa...  \n",
       "4  Los modelos de lenguaje se evalúan a través de...  \n",
       "5  La evaluación de recuperación implica calcular...  \n",
       "6  El \"fine-tuning\" se refiere al proceso de ajus...  \n",
       "7  Los modelos de código abierto inspirados en LL...  \n",
       "8  Los modelos gestionados por proveedores ofrece...  \n",
       "9  La evaluación de referencia implica comparar e...  "
      ]
     },
     "execution_count": 19,
     "metadata": {},
     "output_type": "execute_result"
    }
   ],
   "source": [
    "df_nuevos_qa = pd.DataFrame(nuevos_pares_qa)\n",
    "df_nuevos_qa"
   ]
  },
  {
   "cell_type": "markdown",
   "metadata": {},
   "source": [
    "## Evaluación"
   ]
  },
  {
   "cell_type": "code",
   "execution_count": 20,
   "metadata": {},
   "outputs": [
    {
     "name": "stdout",
     "output_type": "stream",
     "text": [
      "\n",
      "Procesando Pregunta 1/10: '¿Qué son los modelos de lenguaje de dominio específico?...'\n"
     ]
    },
    {
     "name": "stderr",
     "output_type": "stream",
     "text": [
      "The following layers were not sharded: encoder.layer.*.output.dense.bias, encoder.layer.*.attention.output.LayerNorm.weight, encoder.layer.*.attention.self.key.weight, embeddings.token_type_embeddings.weight, encoder.layer.*.intermediate.dense.bias, embeddings.LayerNorm.bias, encoder.layer.*.attention.output.LayerNorm.bias, embeddings.position_embeddings.weight, encoder.layer.*.output.dense.weight, pooler.dense.weight, encoder.layer.*.intermediate.dense.weight, encoder.layer.*.attention.output.dense.weight, encoder.layer.*.attention.output.dense.bias, embeddings.word_embeddings.weight, encoder.layer.*.attention.self.key.bias, encoder.layer.*.output.LayerNorm.weight, encoder.layer.*.attention.self.query.weight, encoder.layer.*.attention.self.query.bias, encoder.layer.*.attention.self.value.bias, encoder.layer.*.output.LayerNorm.bias, encoder.layer.*.attention.self.value.weight, pooler.dense.bias, embeddings.LayerNorm.weight\n",
      "The following layers were not sharded: encoder.layer.*.output.dense.bias, encoder.layer.*.attention.output.LayerNorm.weight, encoder.layer.*.attention.self.key.weight, embeddings.token_type_embeddings.weight, encoder.layer.*.intermediate.dense.bias, embeddings.LayerNorm.bias, encoder.layer.*.attention.output.LayerNorm.bias, embeddings.position_embeddings.weight, encoder.layer.*.output.dense.weight, pooler.dense.weight, encoder.layer.*.intermediate.dense.weight, encoder.layer.*.attention.output.dense.weight, encoder.layer.*.attention.output.dense.bias, embeddings.word_embeddings.weight, encoder.layer.*.attention.self.key.bias, encoder.layer.*.output.LayerNorm.weight, encoder.layer.*.attention.self.query.weight, encoder.layer.*.attention.self.query.bias, encoder.layer.*.attention.self.value.bias, encoder.layer.*.output.LayerNorm.bias, encoder.layer.*.attention.self.value.weight, pooler.dense.bias, embeddings.LayerNorm.weight\n",
      "The following layers were not sharded: encoder.layer.*.output.dense.bias, encoder.layer.*.attention.output.LayerNorm.weight, encoder.layer.*.attention.self.key.weight, embeddings.token_type_embeddings.weight, encoder.layer.*.intermediate.dense.bias, embeddings.LayerNorm.bias, encoder.layer.*.attention.output.LayerNorm.bias, embeddings.position_embeddings.weight, encoder.layer.*.output.dense.weight, pooler.dense.weight, encoder.layer.*.intermediate.dense.weight, encoder.layer.*.attention.output.dense.weight, encoder.layer.*.attention.output.dense.bias, embeddings.word_embeddings.weight, encoder.layer.*.attention.self.key.bias, encoder.layer.*.output.LayerNorm.weight, encoder.layer.*.attention.self.query.weight, encoder.layer.*.attention.self.query.bias, encoder.layer.*.attention.self.value.bias, encoder.layer.*.output.LayerNorm.bias, encoder.layer.*.attention.self.value.weight, pooler.dense.bias, embeddings.LayerNorm.weight\n"
     ]
    },
    {
     "name": "stdout",
     "output_type": "stream",
     "text": [
      "\n",
      "Procesando Pregunta 2/10: '¿Cuáles son las implicaciones éticas de los modelos de lenguaje?...'\n"
     ]
    },
    {
     "name": "stderr",
     "output_type": "stream",
     "text": [
      "The following layers were not sharded: encoder.layer.*.output.dense.bias, encoder.layer.*.attention.output.LayerNorm.weight, encoder.layer.*.attention.self.key.weight, embeddings.token_type_embeddings.weight, encoder.layer.*.intermediate.dense.bias, embeddings.LayerNorm.bias, encoder.layer.*.attention.output.LayerNorm.bias, embeddings.position_embeddings.weight, encoder.layer.*.output.dense.weight, pooler.dense.weight, encoder.layer.*.intermediate.dense.weight, encoder.layer.*.attention.output.dense.weight, encoder.layer.*.attention.output.dense.bias, embeddings.word_embeddings.weight, encoder.layer.*.attention.self.key.bias, encoder.layer.*.output.LayerNorm.weight, encoder.layer.*.attention.self.query.weight, encoder.layer.*.attention.self.query.bias, encoder.layer.*.attention.self.value.bias, encoder.layer.*.output.LayerNorm.bias, encoder.layer.*.attention.self.value.weight, pooler.dense.bias, embeddings.LayerNorm.weight\n",
      "The following layers were not sharded: encoder.layer.*.output.dense.bias, encoder.layer.*.attention.output.LayerNorm.weight, encoder.layer.*.attention.self.key.weight, embeddings.token_type_embeddings.weight, encoder.layer.*.intermediate.dense.bias, embeddings.LayerNorm.bias, encoder.layer.*.attention.output.LayerNorm.bias, embeddings.position_embeddings.weight, encoder.layer.*.output.dense.weight, pooler.dense.weight, encoder.layer.*.intermediate.dense.weight, encoder.layer.*.attention.output.dense.weight, encoder.layer.*.attention.output.dense.bias, embeddings.word_embeddings.weight, encoder.layer.*.attention.self.key.bias, encoder.layer.*.output.LayerNorm.weight, encoder.layer.*.attention.self.query.weight, encoder.layer.*.attention.self.query.bias, encoder.layer.*.attention.self.value.bias, encoder.layer.*.output.LayerNorm.bias, encoder.layer.*.attention.self.value.weight, pooler.dense.bias, embeddings.LayerNorm.weight\n",
      "The following layers were not sharded: encoder.layer.*.output.dense.bias, encoder.layer.*.attention.output.LayerNorm.weight, encoder.layer.*.attention.self.key.weight, embeddings.token_type_embeddings.weight, encoder.layer.*.intermediate.dense.bias, embeddings.LayerNorm.bias, encoder.layer.*.attention.output.LayerNorm.bias, embeddings.position_embeddings.weight, encoder.layer.*.output.dense.weight, pooler.dense.weight, encoder.layer.*.intermediate.dense.weight, encoder.layer.*.attention.output.dense.weight, encoder.layer.*.attention.output.dense.bias, embeddings.word_embeddings.weight, encoder.layer.*.attention.self.key.bias, encoder.layer.*.output.LayerNorm.weight, encoder.layer.*.attention.self.query.weight, encoder.layer.*.attention.self.query.bias, encoder.layer.*.attention.self.value.bias, encoder.layer.*.output.LayerNorm.bias, encoder.layer.*.attention.self.value.weight, pooler.dense.bias, embeddings.LayerNorm.weight\n"
     ]
    },
    {
     "name": "stdout",
     "output_type": "stream",
     "text": [
      "\n",
      "Procesando Pregunta 3/10: '¿Qué es un entorno sandbox en el contexto de LLMOps?...'\n"
     ]
    },
    {
     "name": "stderr",
     "output_type": "stream",
     "text": [
      "The following layers were not sharded: encoder.layer.*.output.dense.bias, encoder.layer.*.attention.output.LayerNorm.weight, encoder.layer.*.attention.self.key.weight, embeddings.token_type_embeddings.weight, encoder.layer.*.intermediate.dense.bias, embeddings.LayerNorm.bias, encoder.layer.*.attention.output.LayerNorm.bias, embeddings.position_embeddings.weight, encoder.layer.*.output.dense.weight, pooler.dense.weight, encoder.layer.*.intermediate.dense.weight, encoder.layer.*.attention.output.dense.weight, encoder.layer.*.attention.output.dense.bias, embeddings.word_embeddings.weight, encoder.layer.*.attention.self.key.bias, encoder.layer.*.output.LayerNorm.weight, encoder.layer.*.attention.self.query.weight, encoder.layer.*.attention.self.query.bias, encoder.layer.*.attention.self.value.bias, encoder.layer.*.output.LayerNorm.bias, encoder.layer.*.attention.self.value.weight, pooler.dense.bias, embeddings.LayerNorm.weight\n",
      "The following layers were not sharded: encoder.layer.*.output.dense.bias, encoder.layer.*.attention.output.LayerNorm.weight, encoder.layer.*.attention.self.key.weight, embeddings.token_type_embeddings.weight, encoder.layer.*.intermediate.dense.bias, embeddings.LayerNorm.bias, encoder.layer.*.attention.output.LayerNorm.bias, embeddings.position_embeddings.weight, encoder.layer.*.output.dense.weight, pooler.dense.weight, encoder.layer.*.intermediate.dense.weight, encoder.layer.*.attention.output.dense.weight, encoder.layer.*.attention.output.dense.bias, embeddings.word_embeddings.weight, encoder.layer.*.attention.self.key.bias, encoder.layer.*.output.LayerNorm.weight, encoder.layer.*.attention.self.query.weight, encoder.layer.*.attention.self.query.bias, encoder.layer.*.attention.self.value.bias, encoder.layer.*.output.LayerNorm.bias, encoder.layer.*.attention.self.value.weight, pooler.dense.bias, embeddings.LayerNorm.weight\n",
      "The following layers were not sharded: encoder.layer.*.output.dense.bias, encoder.layer.*.attention.output.LayerNorm.weight, encoder.layer.*.attention.self.key.weight, embeddings.token_type_embeddings.weight, encoder.layer.*.intermediate.dense.bias, embeddings.LayerNorm.bias, encoder.layer.*.attention.output.LayerNorm.bias, embeddings.position_embeddings.weight, encoder.layer.*.output.dense.weight, pooler.dense.weight, encoder.layer.*.intermediate.dense.weight, encoder.layer.*.attention.output.dense.weight, encoder.layer.*.attention.output.dense.bias, embeddings.word_embeddings.weight, encoder.layer.*.attention.self.key.bias, encoder.layer.*.output.LayerNorm.weight, encoder.layer.*.attention.self.query.weight, encoder.layer.*.attention.self.query.bias, encoder.layer.*.attention.self.value.bias, encoder.layer.*.output.LayerNorm.bias, encoder.layer.*.attention.self.value.weight, pooler.dense.bias, embeddings.LayerNorm.weight\n"
     ]
    },
    {
     "name": "stdout",
     "output_type": "stream",
     "text": [
      "\n",
      "Procesando Pregunta 4/10: '¿Cuáles son los tres entornos necesarios para configurar un pipeline d...'\n"
     ]
    },
    {
     "name": "stderr",
     "output_type": "stream",
     "text": [
      "The following layers were not sharded: encoder.layer.*.output.dense.bias, encoder.layer.*.attention.output.LayerNorm.weight, encoder.layer.*.attention.self.key.weight, embeddings.token_type_embeddings.weight, encoder.layer.*.intermediate.dense.bias, embeddings.LayerNorm.bias, encoder.layer.*.attention.output.LayerNorm.bias, embeddings.position_embeddings.weight, encoder.layer.*.output.dense.weight, pooler.dense.weight, encoder.layer.*.intermediate.dense.weight, encoder.layer.*.attention.output.dense.weight, encoder.layer.*.attention.output.dense.bias, embeddings.word_embeddings.weight, encoder.layer.*.attention.self.key.bias, encoder.layer.*.output.LayerNorm.weight, encoder.layer.*.attention.self.query.weight, encoder.layer.*.attention.self.query.bias, encoder.layer.*.attention.self.value.bias, encoder.layer.*.output.LayerNorm.bias, encoder.layer.*.attention.self.value.weight, pooler.dense.bias, embeddings.LayerNorm.weight\n",
      "The following layers were not sharded: encoder.layer.*.output.dense.bias, encoder.layer.*.attention.output.LayerNorm.weight, encoder.layer.*.attention.self.key.weight, embeddings.token_type_embeddings.weight, encoder.layer.*.intermediate.dense.bias, embeddings.LayerNorm.bias, encoder.layer.*.attention.output.LayerNorm.bias, embeddings.position_embeddings.weight, encoder.layer.*.output.dense.weight, pooler.dense.weight, encoder.layer.*.intermediate.dense.weight, encoder.layer.*.attention.output.dense.weight, encoder.layer.*.attention.output.dense.bias, embeddings.word_embeddings.weight, encoder.layer.*.attention.self.key.bias, encoder.layer.*.output.LayerNorm.weight, encoder.layer.*.attention.self.query.weight, encoder.layer.*.attention.self.query.bias, encoder.layer.*.attention.self.value.bias, encoder.layer.*.output.LayerNorm.bias, encoder.layer.*.attention.self.value.weight, pooler.dense.bias, embeddings.LayerNorm.weight\n",
      "The following layers were not sharded: encoder.layer.*.output.dense.bias, encoder.layer.*.attention.output.LayerNorm.weight, encoder.layer.*.attention.self.key.weight, embeddings.token_type_embeddings.weight, encoder.layer.*.intermediate.dense.bias, embeddings.LayerNorm.bias, encoder.layer.*.attention.output.LayerNorm.bias, embeddings.position_embeddings.weight, encoder.layer.*.output.dense.weight, pooler.dense.weight, encoder.layer.*.intermediate.dense.weight, encoder.layer.*.attention.output.dense.weight, encoder.layer.*.attention.output.dense.bias, embeddings.word_embeddings.weight, encoder.layer.*.attention.self.key.bias, encoder.layer.*.output.LayerNorm.weight, encoder.layer.*.attention.self.query.weight, encoder.layer.*.attention.self.query.bias, encoder.layer.*.attention.self.value.bias, encoder.layer.*.output.LayerNorm.bias, encoder.layer.*.attention.self.value.weight, pooler.dense.bias, embeddings.LayerNorm.weight\n"
     ]
    },
    {
     "name": "stdout",
     "output_type": "stream",
     "text": [
      "\n",
      "Procesando Pregunta 5/10: '¿Cómo se evalúan los modelos de lenguaje en términos de sesgo y equida...'\n"
     ]
    },
    {
     "name": "stderr",
     "output_type": "stream",
     "text": [
      "The following layers were not sharded: encoder.layer.*.output.dense.bias, encoder.layer.*.attention.output.LayerNorm.weight, encoder.layer.*.attention.self.key.weight, embeddings.token_type_embeddings.weight, encoder.layer.*.intermediate.dense.bias, embeddings.LayerNorm.bias, encoder.layer.*.attention.output.LayerNorm.bias, embeddings.position_embeddings.weight, encoder.layer.*.output.dense.weight, pooler.dense.weight, encoder.layer.*.intermediate.dense.weight, encoder.layer.*.attention.output.dense.weight, encoder.layer.*.attention.output.dense.bias, embeddings.word_embeddings.weight, encoder.layer.*.attention.self.key.bias, encoder.layer.*.output.LayerNorm.weight, encoder.layer.*.attention.self.query.weight, encoder.layer.*.attention.self.query.bias, encoder.layer.*.attention.self.value.bias, encoder.layer.*.output.LayerNorm.bias, encoder.layer.*.attention.self.value.weight, pooler.dense.bias, embeddings.LayerNorm.weight\n",
      "The following layers were not sharded: encoder.layer.*.output.dense.bias, encoder.layer.*.attention.output.LayerNorm.weight, encoder.layer.*.attention.self.key.weight, embeddings.token_type_embeddings.weight, encoder.layer.*.intermediate.dense.bias, embeddings.LayerNorm.bias, encoder.layer.*.attention.output.LayerNorm.bias, embeddings.position_embeddings.weight, encoder.layer.*.output.dense.weight, pooler.dense.weight, encoder.layer.*.intermediate.dense.weight, encoder.layer.*.attention.output.dense.weight, encoder.layer.*.attention.output.dense.bias, embeddings.word_embeddings.weight, encoder.layer.*.attention.self.key.bias, encoder.layer.*.output.LayerNorm.weight, encoder.layer.*.attention.self.query.weight, encoder.layer.*.attention.self.query.bias, encoder.layer.*.attention.self.value.bias, encoder.layer.*.output.LayerNorm.bias, encoder.layer.*.attention.self.value.weight, pooler.dense.bias, embeddings.LayerNorm.weight\n",
      "The following layers were not sharded: encoder.layer.*.output.dense.bias, encoder.layer.*.attention.output.LayerNorm.weight, encoder.layer.*.attention.self.key.weight, embeddings.token_type_embeddings.weight, encoder.layer.*.intermediate.dense.bias, embeddings.LayerNorm.bias, encoder.layer.*.attention.output.LayerNorm.bias, embeddings.position_embeddings.weight, encoder.layer.*.output.dense.weight, pooler.dense.weight, encoder.layer.*.intermediate.dense.weight, encoder.layer.*.attention.output.dense.weight, encoder.layer.*.attention.output.dense.bias, embeddings.word_embeddings.weight, encoder.layer.*.attention.self.key.bias, encoder.layer.*.output.LayerNorm.weight, encoder.layer.*.attention.self.query.weight, encoder.layer.*.attention.self.query.bias, encoder.layer.*.attention.self.value.bias, encoder.layer.*.output.LayerNorm.bias, encoder.layer.*.attention.self.value.weight, pooler.dense.bias, embeddings.LayerNorm.weight\n"
     ]
    },
    {
     "name": "stdout",
     "output_type": "stream",
     "text": [
      "\n",
      "Procesando Pregunta 6/10: '¿Qué es la evaluación de recuperación en modelos de lenguaje?...'\n"
     ]
    },
    {
     "name": "stderr",
     "output_type": "stream",
     "text": [
      "The following layers were not sharded: encoder.layer.*.output.dense.bias, encoder.layer.*.attention.output.LayerNorm.weight, encoder.layer.*.attention.self.key.weight, embeddings.token_type_embeddings.weight, encoder.layer.*.intermediate.dense.bias, embeddings.LayerNorm.bias, encoder.layer.*.attention.output.LayerNorm.bias, embeddings.position_embeddings.weight, encoder.layer.*.output.dense.weight, pooler.dense.weight, encoder.layer.*.intermediate.dense.weight, encoder.layer.*.attention.output.dense.weight, encoder.layer.*.attention.output.dense.bias, embeddings.word_embeddings.weight, encoder.layer.*.attention.self.key.bias, encoder.layer.*.output.LayerNorm.weight, encoder.layer.*.attention.self.query.weight, encoder.layer.*.attention.self.query.bias, encoder.layer.*.attention.self.value.bias, encoder.layer.*.output.LayerNorm.bias, encoder.layer.*.attention.self.value.weight, pooler.dense.bias, embeddings.LayerNorm.weight\n",
      "The following layers were not sharded: encoder.layer.*.output.dense.bias, encoder.layer.*.attention.output.LayerNorm.weight, encoder.layer.*.attention.self.key.weight, embeddings.token_type_embeddings.weight, encoder.layer.*.intermediate.dense.bias, embeddings.LayerNorm.bias, encoder.layer.*.attention.output.LayerNorm.bias, embeddings.position_embeddings.weight, encoder.layer.*.output.dense.weight, pooler.dense.weight, encoder.layer.*.intermediate.dense.weight, encoder.layer.*.attention.output.dense.weight, encoder.layer.*.attention.output.dense.bias, embeddings.word_embeddings.weight, encoder.layer.*.attention.self.key.bias, encoder.layer.*.output.LayerNorm.weight, encoder.layer.*.attention.self.query.weight, encoder.layer.*.attention.self.query.bias, encoder.layer.*.attention.self.value.bias, encoder.layer.*.output.LayerNorm.bias, encoder.layer.*.attention.self.value.weight, pooler.dense.bias, embeddings.LayerNorm.weight\n",
      "The following layers were not sharded: encoder.layer.*.output.dense.bias, encoder.layer.*.attention.output.LayerNorm.weight, encoder.layer.*.attention.self.key.weight, embeddings.token_type_embeddings.weight, encoder.layer.*.intermediate.dense.bias, embeddings.LayerNorm.bias, encoder.layer.*.attention.output.LayerNorm.bias, embeddings.position_embeddings.weight, encoder.layer.*.output.dense.weight, pooler.dense.weight, encoder.layer.*.intermediate.dense.weight, encoder.layer.*.attention.output.dense.weight, encoder.layer.*.attention.output.dense.bias, embeddings.word_embeddings.weight, encoder.layer.*.attention.self.key.bias, encoder.layer.*.output.LayerNorm.weight, encoder.layer.*.attention.self.query.weight, encoder.layer.*.attention.self.query.bias, encoder.layer.*.attention.self.value.bias, encoder.layer.*.output.LayerNorm.bias, encoder.layer.*.attention.self.value.weight, pooler.dense.bias, embeddings.LayerNorm.weight\n"
     ]
    },
    {
     "name": "stdout",
     "output_type": "stream",
     "text": [
      "\n",
      "Procesando Pregunta 7/10: '¿Qué significa el término \"fine-tuning\" en el contexto de modelos de l...'\n"
     ]
    },
    {
     "name": "stderr",
     "output_type": "stream",
     "text": [
      "The following layers were not sharded: encoder.layer.*.output.dense.bias, encoder.layer.*.attention.output.LayerNorm.weight, encoder.layer.*.attention.self.key.weight, embeddings.token_type_embeddings.weight, encoder.layer.*.intermediate.dense.bias, embeddings.LayerNorm.bias, encoder.layer.*.attention.output.LayerNorm.bias, embeddings.position_embeddings.weight, encoder.layer.*.output.dense.weight, pooler.dense.weight, encoder.layer.*.intermediate.dense.weight, encoder.layer.*.attention.output.dense.weight, encoder.layer.*.attention.output.dense.bias, embeddings.word_embeddings.weight, encoder.layer.*.attention.self.key.bias, encoder.layer.*.output.LayerNorm.weight, encoder.layer.*.attention.self.query.weight, encoder.layer.*.attention.self.query.bias, encoder.layer.*.attention.self.value.bias, encoder.layer.*.output.LayerNorm.bias, encoder.layer.*.attention.self.value.weight, pooler.dense.bias, embeddings.LayerNorm.weight\n",
      "The following layers were not sharded: encoder.layer.*.output.dense.bias, encoder.layer.*.attention.output.LayerNorm.weight, encoder.layer.*.attention.self.key.weight, embeddings.token_type_embeddings.weight, encoder.layer.*.intermediate.dense.bias, embeddings.LayerNorm.bias, encoder.layer.*.attention.output.LayerNorm.bias, embeddings.position_embeddings.weight, encoder.layer.*.output.dense.weight, pooler.dense.weight, encoder.layer.*.intermediate.dense.weight, encoder.layer.*.attention.output.dense.weight, encoder.layer.*.attention.output.dense.bias, embeddings.word_embeddings.weight, encoder.layer.*.attention.self.key.bias, encoder.layer.*.output.LayerNorm.weight, encoder.layer.*.attention.self.query.weight, encoder.layer.*.attention.self.query.bias, encoder.layer.*.attention.self.value.bias, encoder.layer.*.output.LayerNorm.bias, encoder.layer.*.attention.self.value.weight, pooler.dense.bias, embeddings.LayerNorm.weight\n",
      "The following layers were not sharded: encoder.layer.*.output.dense.bias, encoder.layer.*.attention.output.LayerNorm.weight, encoder.layer.*.attention.self.key.weight, embeddings.token_type_embeddings.weight, encoder.layer.*.intermediate.dense.bias, embeddings.LayerNorm.bias, encoder.layer.*.attention.output.LayerNorm.bias, embeddings.position_embeddings.weight, encoder.layer.*.output.dense.weight, pooler.dense.weight, encoder.layer.*.intermediate.dense.weight, encoder.layer.*.attention.output.dense.weight, encoder.layer.*.attention.output.dense.bias, embeddings.word_embeddings.weight, encoder.layer.*.attention.self.key.bias, encoder.layer.*.output.LayerNorm.weight, encoder.layer.*.attention.self.query.weight, encoder.layer.*.attention.self.query.bias, encoder.layer.*.attention.self.value.bias, encoder.layer.*.output.LayerNorm.bias, encoder.layer.*.attention.self.value.weight, pooler.dense.bias, embeddings.LayerNorm.weight\n"
     ]
    },
    {
     "name": "stdout",
     "output_type": "stream",
     "text": [
      "\n",
      "Procesando Pregunta 8/10: '¿Qué son los modelos de código abierto inspirados en LLaMA?...'\n"
     ]
    },
    {
     "name": "stderr",
     "output_type": "stream",
     "text": [
      "The following layers were not sharded: encoder.layer.*.output.dense.bias, encoder.layer.*.attention.output.LayerNorm.weight, encoder.layer.*.attention.self.key.weight, embeddings.token_type_embeddings.weight, encoder.layer.*.intermediate.dense.bias, embeddings.LayerNorm.bias, encoder.layer.*.attention.output.LayerNorm.bias, embeddings.position_embeddings.weight, encoder.layer.*.output.dense.weight, pooler.dense.weight, encoder.layer.*.intermediate.dense.weight, encoder.layer.*.attention.output.dense.weight, encoder.layer.*.attention.output.dense.bias, embeddings.word_embeddings.weight, encoder.layer.*.attention.self.key.bias, encoder.layer.*.output.LayerNorm.weight, encoder.layer.*.attention.self.query.weight, encoder.layer.*.attention.self.query.bias, encoder.layer.*.attention.self.value.bias, encoder.layer.*.output.LayerNorm.bias, encoder.layer.*.attention.self.value.weight, pooler.dense.bias, embeddings.LayerNorm.weight\n",
      "The following layers were not sharded: encoder.layer.*.output.dense.bias, encoder.layer.*.attention.output.LayerNorm.weight, encoder.layer.*.attention.self.key.weight, embeddings.token_type_embeddings.weight, encoder.layer.*.intermediate.dense.bias, embeddings.LayerNorm.bias, encoder.layer.*.attention.output.LayerNorm.bias, embeddings.position_embeddings.weight, encoder.layer.*.output.dense.weight, pooler.dense.weight, encoder.layer.*.intermediate.dense.weight, encoder.layer.*.attention.output.dense.weight, encoder.layer.*.attention.output.dense.bias, embeddings.word_embeddings.weight, encoder.layer.*.attention.self.key.bias, encoder.layer.*.output.LayerNorm.weight, encoder.layer.*.attention.self.query.weight, encoder.layer.*.attention.self.query.bias, encoder.layer.*.attention.self.value.bias, encoder.layer.*.output.LayerNorm.bias, encoder.layer.*.attention.self.value.weight, pooler.dense.bias, embeddings.LayerNorm.weight\n",
      "The following layers were not sharded: encoder.layer.*.output.dense.bias, encoder.layer.*.attention.output.LayerNorm.weight, encoder.layer.*.attention.self.key.weight, embeddings.token_type_embeddings.weight, encoder.layer.*.intermediate.dense.bias, embeddings.LayerNorm.bias, encoder.layer.*.attention.output.LayerNorm.bias, embeddings.position_embeddings.weight, encoder.layer.*.output.dense.weight, pooler.dense.weight, encoder.layer.*.intermediate.dense.weight, encoder.layer.*.attention.output.dense.weight, encoder.layer.*.attention.output.dense.bias, embeddings.word_embeddings.weight, encoder.layer.*.attention.self.key.bias, encoder.layer.*.output.LayerNorm.weight, encoder.layer.*.attention.self.query.weight, encoder.layer.*.attention.self.query.bias, encoder.layer.*.attention.self.value.bias, encoder.layer.*.output.LayerNorm.bias, encoder.layer.*.attention.self.value.weight, pooler.dense.bias, embeddings.LayerNorm.weight\n"
     ]
    },
    {
     "name": "stdout",
     "output_type": "stream",
     "text": [
      "\n",
      "Procesando Pregunta 9/10: '¿Cuál es la función de los modelos gestionados por proveedores en la i...'\n"
     ]
    },
    {
     "name": "stderr",
     "output_type": "stream",
     "text": [
      "The following layers were not sharded: encoder.layer.*.output.dense.bias, encoder.layer.*.attention.output.LayerNorm.weight, encoder.layer.*.attention.self.key.weight, embeddings.token_type_embeddings.weight, encoder.layer.*.intermediate.dense.bias, embeddings.LayerNorm.bias, encoder.layer.*.attention.output.LayerNorm.bias, embeddings.position_embeddings.weight, encoder.layer.*.output.dense.weight, pooler.dense.weight, encoder.layer.*.intermediate.dense.weight, encoder.layer.*.attention.output.dense.weight, encoder.layer.*.attention.output.dense.bias, embeddings.word_embeddings.weight, encoder.layer.*.attention.self.key.bias, encoder.layer.*.output.LayerNorm.weight, encoder.layer.*.attention.self.query.weight, encoder.layer.*.attention.self.query.bias, encoder.layer.*.attention.self.value.bias, encoder.layer.*.output.LayerNorm.bias, encoder.layer.*.attention.self.value.weight, pooler.dense.bias, embeddings.LayerNorm.weight\n",
      "The following layers were not sharded: encoder.layer.*.output.dense.bias, encoder.layer.*.attention.output.LayerNorm.weight, encoder.layer.*.attention.self.key.weight, embeddings.token_type_embeddings.weight, encoder.layer.*.intermediate.dense.bias, embeddings.LayerNorm.bias, encoder.layer.*.attention.output.LayerNorm.bias, embeddings.position_embeddings.weight, encoder.layer.*.output.dense.weight, pooler.dense.weight, encoder.layer.*.intermediate.dense.weight, encoder.layer.*.attention.output.dense.weight, encoder.layer.*.attention.output.dense.bias, embeddings.word_embeddings.weight, encoder.layer.*.attention.self.key.bias, encoder.layer.*.output.LayerNorm.weight, encoder.layer.*.attention.self.query.weight, encoder.layer.*.attention.self.query.bias, encoder.layer.*.attention.self.value.bias, encoder.layer.*.output.LayerNorm.bias, encoder.layer.*.attention.self.value.weight, pooler.dense.bias, embeddings.LayerNorm.weight\n",
      "The following layers were not sharded: encoder.layer.*.output.dense.bias, encoder.layer.*.attention.output.LayerNorm.weight, encoder.layer.*.attention.self.key.weight, embeddings.token_type_embeddings.weight, encoder.layer.*.intermediate.dense.bias, embeddings.LayerNorm.bias, encoder.layer.*.attention.output.LayerNorm.bias, embeddings.position_embeddings.weight, encoder.layer.*.output.dense.weight, pooler.dense.weight, encoder.layer.*.intermediate.dense.weight, encoder.layer.*.attention.output.dense.weight, encoder.layer.*.attention.output.dense.bias, embeddings.word_embeddings.weight, encoder.layer.*.attention.self.key.bias, encoder.layer.*.output.LayerNorm.weight, encoder.layer.*.attention.self.query.weight, encoder.layer.*.attention.self.query.bias, encoder.layer.*.attention.self.value.bias, encoder.layer.*.output.LayerNorm.bias, encoder.layer.*.attention.self.value.weight, pooler.dense.bias, embeddings.LayerNorm.weight\n"
     ]
    },
    {
     "name": "stdout",
     "output_type": "stream",
     "text": [
      "\n",
      "Procesando Pregunta 10/10: '¿Qué es la evaluación de referencia en el contexto de modelos de lengu...'\n"
     ]
    },
    {
     "name": "stderr",
     "output_type": "stream",
     "text": [
      "The following layers were not sharded: encoder.layer.*.output.dense.bias, encoder.layer.*.attention.output.LayerNorm.weight, encoder.layer.*.attention.self.key.weight, embeddings.token_type_embeddings.weight, encoder.layer.*.intermediate.dense.bias, embeddings.LayerNorm.bias, encoder.layer.*.attention.output.LayerNorm.bias, embeddings.position_embeddings.weight, encoder.layer.*.output.dense.weight, pooler.dense.weight, encoder.layer.*.intermediate.dense.weight, encoder.layer.*.attention.output.dense.weight, encoder.layer.*.attention.output.dense.bias, embeddings.word_embeddings.weight, encoder.layer.*.attention.self.key.bias, encoder.layer.*.output.LayerNorm.weight, encoder.layer.*.attention.self.query.weight, encoder.layer.*.attention.self.query.bias, encoder.layer.*.attention.self.value.bias, encoder.layer.*.output.LayerNorm.bias, encoder.layer.*.attention.self.value.weight, pooler.dense.bias, embeddings.LayerNorm.weight\n",
      "The following layers were not sharded: encoder.layer.*.output.dense.bias, encoder.layer.*.attention.output.LayerNorm.weight, encoder.layer.*.attention.self.key.weight, embeddings.token_type_embeddings.weight, encoder.layer.*.intermediate.dense.bias, embeddings.LayerNorm.bias, encoder.layer.*.attention.output.LayerNorm.bias, embeddings.position_embeddings.weight, encoder.layer.*.output.dense.weight, pooler.dense.weight, encoder.layer.*.intermediate.dense.weight, encoder.layer.*.attention.output.dense.weight, encoder.layer.*.attention.output.dense.bias, embeddings.word_embeddings.weight, encoder.layer.*.attention.self.key.bias, encoder.layer.*.output.LayerNorm.weight, encoder.layer.*.attention.self.query.weight, encoder.layer.*.attention.self.query.bias, encoder.layer.*.attention.self.value.bias, encoder.layer.*.output.LayerNorm.bias, encoder.layer.*.attention.self.value.weight, pooler.dense.bias, embeddings.LayerNorm.weight\n",
      "The following layers were not sharded: encoder.layer.*.output.dense.bias, encoder.layer.*.attention.output.LayerNorm.weight, encoder.layer.*.attention.self.key.weight, embeddings.token_type_embeddings.weight, encoder.layer.*.intermediate.dense.bias, embeddings.LayerNorm.bias, encoder.layer.*.attention.output.LayerNorm.bias, embeddings.position_embeddings.weight, encoder.layer.*.output.dense.weight, pooler.dense.weight, encoder.layer.*.intermediate.dense.weight, encoder.layer.*.attention.output.dense.weight, encoder.layer.*.attention.output.dense.bias, embeddings.word_embeddings.weight, encoder.layer.*.attention.self.key.bias, encoder.layer.*.output.LayerNorm.weight, encoder.layer.*.attention.self.query.weight, encoder.layer.*.attention.self.query.bias, encoder.layer.*.attention.self.value.bias, encoder.layer.*.output.LayerNorm.bias, encoder.layer.*.attention.self.value.weight, pooler.dense.bias, embeddings.LayerNorm.weight\n"
     ]
    }
   ],
   "source": [
    "resultados = []\n",
    "for i, row in df_nuevos_qa.iterrows():\n",
    "    pregunta = str(row[\"Pregunta\"])\n",
    "    respuesta_humana = str(row[\"Respuesta\"]) # La respuesta de referencia humana del Excel\n",
    "\n",
    "    print(f\"\\nProcesando Pregunta {i+1}/{min(num_pares_a_generar, len(df_preguntas_respuestas))}: '{pregunta[:70]}...'\")\n",
    "\n",
    "    # --- GENERACIÓN DE RESPUESTA DEL MODELO Y CÁLCULO DE SIMILARIDAD ---\n",
    "    query_embedding_val = text_embedding(pregunta)\n",
    "    query_vector = np.array(query_embedding_val)\n",
    "\n",
    "    def cosine_similarity_for_chunks(row_embedding_chunk):\n",
    "        denominator1 = np.linalg.norm(row_embedding_chunk)\n",
    "        denominator2 = np.linalg.norm(query_vector)\n",
    "        dot_prod = np.dot(row_embedding_chunk, query_vector)\n",
    "        if denominator1 == 0 or denominator2 == 0:\n",
    "            return 0.0\n",
    "        return dot_prod / (denominator1 * denominator2)\n",
    "\n",
    "    top_matched_indices = (\n",
    "        df_vector_store[\"Embedding\"]\n",
    "        .apply(cosine_similarity_for_chunks)\n",
    "        .sort_values(ascending=False)[:top_join]\n",
    "        .index\n",
    "    )\n",
    "    context_chunks = list(df_vector_store.loc[top_matched_indices, 'Chunks'])\n",
    "\n",
    "    custom_prompt = prompt_system.format(source = str(context_chunks))\n",
    "\n",
    "    completion = client.chat.completions.create(\n",
    "        model=modelo_banco,\n",
    "        temperature = temperature_,\n",
    "        messages=[\n",
    "            {\"role\": \"system\", \"content\": custom_prompt},\n",
    "            {\"role\": \"user\", \"content\": pregunta}\n",
    "        ]\n",
    "    )\n",
    "    respuesta_modelo = completion.choices[0].message.content\n",
    "\n",
    "    # Calcular la similaridad entre la respuesta del modelo y la respuesta humana de referencia\n",
    "    def cosine_final(v1, v2):\n",
    "        norm_v1 = np.linalg.norm(v1)\n",
    "        norm_v2 = np.linalg.norm(v2)\n",
    "        if norm_v1 == 0 or norm_v2 == 0:\n",
    "            return 0.0\n",
    "        return np.dot(v1, v2) / (norm_v1 * norm_v2)\n",
    "\n",
    "    emb_modelo = np.array(text_embedding(respuesta_modelo))\n",
    "    emb_humana = np.array(text_embedding(respuesta_humana))\n",
    "\n",
    "    similitud = cosine_final(emb_modelo, emb_humana)\n",
    "\n",
    "    # --- CÁLCULO DE LAS OTRAS MÉTRICAS (AHORA SOBRE LA RESPUESTA DEL MODELO) ---\n",
    "    coherencia = medir_coherencia(pregunta, respuesta_modelo) # Coherencia de la respuesta del modelo\n",
    "    personalizacion = medir_personalizacion(perfil_usuario, respuesta_modelo) # Personalización de la respuesta del modelo\n",
    "    fluidez = medir_fluidez(respuesta_modelo) # Fluidez de la respuesta del modelo\n",
    "    alucinacion = medir_alucinacion(respuesta_modelo, contexto_generico) # Alucinación de la respuesta del modelo\n",
    "\n",
    "    # Agregando resultados al listado final\n",
    "    resultados.append({\n",
    "        \"Pregunta\": pregunta,\n",
    "        \"Respuesta_Humana\": respuesta_humana,\n",
    "        \"Respuesta_Modelo_Generada\": respuesta_modelo,\n",
    "        \"Coherencia\": round(coherencia, 3),\n",
    "        \"Personalización\": round(personalizacion, 3),\n",
    "        \"Fluidez\": round(fluidez, 2),\n",
    "        \"Alucinación\": round(alucinacion, 3),\n",
    "        \"Similaridad_Modelo_Humana\": round(similitud, 3)\n",
    "    })"
   ]
  },
  {
   "cell_type": "code",
   "execution_count": 21,
   "metadata": {},
   "outputs": [
    {
     "data": {
      "text/html": [
       "<div>\n",
       "<style scoped>\n",
       "    .dataframe tbody tr th:only-of-type {\n",
       "        vertical-align: middle;\n",
       "    }\n",
       "\n",
       "    .dataframe tbody tr th {\n",
       "        vertical-align: top;\n",
       "    }\n",
       "\n",
       "    .dataframe thead th {\n",
       "        text-align: right;\n",
       "    }\n",
       "</style>\n",
       "<table border=\"1\" class=\"dataframe\">\n",
       "  <thead>\n",
       "    <tr style=\"text-align: right;\">\n",
       "      <th></th>\n",
       "      <th>Pregunta</th>\n",
       "      <th>Respuesta_Humana</th>\n",
       "      <th>Respuesta_Modelo_Generada</th>\n",
       "      <th>Coherencia</th>\n",
       "      <th>Personalización</th>\n",
       "      <th>Fluidez</th>\n",
       "      <th>Alucinación</th>\n",
       "      <th>Similaridad_Modelo_Humana</th>\n",
       "      <th>Item</th>\n",
       "    </tr>\n",
       "  </thead>\n",
       "  <tbody>\n",
       "    <tr>\n",
       "      <th>0</th>\n",
       "      <td>¿Qué son los modelos de lenguaje de dominio es...</td>\n",
       "      <td>Los modelos de lenguaje de dominio específico ...</td>\n",
       "      <td>Los modelos de lenguaje de dominio específico ...</td>\n",
       "      <td>0.815</td>\n",
       "      <td>0.800</td>\n",
       "      <td>21.78</td>\n",
       "      <td>0.822</td>\n",
       "      <td>0.954</td>\n",
       "      <td>P1</td>\n",
       "    </tr>\n",
       "    <tr>\n",
       "      <th>1</th>\n",
       "      <td>¿Cuáles son las implicaciones éticas de los mo...</td>\n",
       "      <td>Las implicaciones éticas de los modelos de len...</td>\n",
       "      <td>Las implicaciones éticas de los modelos de len...</td>\n",
       "      <td>0.816</td>\n",
       "      <td>0.788</td>\n",
       "      <td>25.56</td>\n",
       "      <td>0.797</td>\n",
       "      <td>0.900</td>\n",
       "      <td>P2</td>\n",
       "    </tr>\n",
       "  </tbody>\n",
       "</table>\n",
       "</div>"
      ],
      "text/plain": [
       "                                            Pregunta  \\\n",
       "0  ¿Qué son los modelos de lenguaje de dominio es...   \n",
       "1  ¿Cuáles son las implicaciones éticas de los mo...   \n",
       "\n",
       "                                    Respuesta_Humana  \\\n",
       "0  Los modelos de lenguaje de dominio específico ...   \n",
       "1  Las implicaciones éticas de los modelos de len...   \n",
       "\n",
       "                           Respuesta_Modelo_Generada  Coherencia  \\\n",
       "0  Los modelos de lenguaje de dominio específico ...       0.815   \n",
       "1  Las implicaciones éticas de los modelos de len...       0.816   \n",
       "\n",
       "   Personalización  Fluidez  Alucinación  Similaridad_Modelo_Humana Item  \n",
       "0            0.800    21.78        0.822                      0.954   P1  \n",
       "1            0.788    25.56        0.797                      0.900   P2  "
      ]
     },
     "execution_count": 21,
     "metadata": {},
     "output_type": "execute_result"
    }
   ],
   "source": [
    "df_resultados = pd.DataFrame(resultados)\n",
    "df_resultados[\"Item\"] = np.arange(1,df_resultados.shape[0] + 1)\n",
    "df_resultados[\"Item\"] = \"P\" + df_resultados[\"Item\"].map(str)\n",
    "df_resultados.head(2)"
   ]
  },
  {
   "cell_type": "code",
   "execution_count": 22,
   "metadata": {},
   "outputs": [
    {
     "name": "stdout",
     "output_type": "stream",
     "text": [
      "Tasa de respuestas correctas:  80.0\n",
      "Tasa de respuestas coherentes: 100.0\n",
      "Tasa de respuestas personalización: 100.0\n",
      "Tasa de respuestas fluidas: 10.0\n",
      "Tasa de respuestas no alucinadas: 100.0\n"
     ]
    }
   ],
   "source": [
    "#min_F = df_resultados[\"Fluidez\"].min()\n",
    "#max_F = df_resultados[\"Fluidez\"].max()\n",
    "#df_resultados[\"Fluidez\"]  = (df_resultados[\"Fluidez\"] - min_F) / (max_F - min_F)\n",
    "\n",
    "tasa_respuestas_correctas = 100 * np.mean(df_resultados.apply(lambda row: 1 if row[\"Similaridad_Modelo_Humana\"]>=0.90 else 0, axis = 1))\n",
    "coherencia = 100 * np.mean(df_resultados.apply(lambda row: 1 if row[\"Coherencia\"]>=0.8 else 0, axis = 1))\n",
    "personalizacion = 100 * np.mean(df_resultados.apply(lambda row: 1 if row[\"Personalización\"]>=0.60 else 0, axis = 1))\n",
    "fluidez = 100 * np.mean(df_resultados.apply(lambda row: 1 if row[\"Fluidez\"]>=30 else 0, axis = 1))\n",
    "alucinacion = 100 * np.mean(df_resultados.apply(lambda row: 1 if row[\"Alucinación\"]>=0.70 else 0, axis = 1))\n",
    "\n",
    "print(\"Tasa de respuestas correctas: \",tasa_respuestas_correctas)\n",
    "print(\"Tasa de respuestas coherentes:\",coherencia)\n",
    "print(\"Tasa de respuestas personalización:\",personalizacion)\n",
    "print(\"Tasa de respuestas fluidas:\",fluidez)\n",
    "print(\"Tasa de respuestas no alucinadas:\",alucinacion)"
   ]
  },
  {
   "cell_type": "markdown",
   "metadata": {},
   "source": [
    "## retornos\n",
    "\n",
    "*tasa_respuestas_correctas\n",
    "\n",
    "*coherencia\n",
    "\n",
    "*personalizacion\n",
    "\n",
    "*fluidez\n",
    "\n",
    "*alucinacion"
   ]
  },
  {
   "cell_type": "markdown",
   "metadata": {},
   "source": [
    "## PCA"
   ]
  },
  {
   "cell_type": "code",
   "execution_count": 23,
   "metadata": {},
   "outputs": [
    {
     "data": {
      "image/png": "[encoded data removed]",
      "text/plain": [
       "<Figure size 1200x1200 with 1 Axes>"
      ]
     },
     "metadata": {},
     "output_type": "display_data"
    }
   ],
   "source": [
    "import pandas as pd\n",
    "import numpy as np\n",
    "import matplotlib.pyplot as plt\n",
    "import seaborn as sns\n",
    "from sklearn.preprocessing import StandardScaler\n",
    "from sklearn.decomposition import PCA\n",
    "\n",
    "# Seleccionar solo las columnas de métricas numéricas para el PCA\n",
    "metricas_cols = [\n",
    "    'Coherencia',\n",
    "    'Personalización',\n",
    "    'Fluidez',\n",
    "    'Alucinación',\n",
    "    'Similaridad_Modelo_Humana'\n",
    "]\n",
    "\n",
    "# Crear el DataFrame de solo métricas\n",
    "X = df_resultados[metricas_cols]\n",
    "\n",
    "# --- PASO 2: Preparar los datos para PCA (Normalización/Escalado) ---\n",
    "scaler = StandardScaler()\n",
    "X_scaled = scaler.fit_transform(X)\n",
    "\n",
    "# --- PASO 3: Aplicar PCA ---\n",
    "pca = PCA(n_components=2) # Reducir a 2 componentes principales para la visualización 2D\n",
    "components = pca.fit_transform(X_scaled)\n",
    "\n",
    "# Crear un DataFrame con los componentes principales\n",
    "df_pca = pd.DataFrame(data=components, columns=['PC1', 'PC2'])\n",
    "\n",
    "# --- MODIFICACIÓN CLAVE AQUÍ: USAR LA COLUMNA 'Item' DE df_preguntas_respuestas PARA LAS ETIQUETAS ---\n",
    "# Necesitamos acceder a df_preguntas_respuestas para obtener los 'Item' (P1, P2, etc.)\n",
    "# Asumimos que df_preguntas_respuestas también está en memoria, o lo cargamos si no lo está.\n",
    "# Si ejecutas este script por separado, asegúrate de que df_preguntas_respuestas se carga.\n",
    "# Por ejemplo: df_preguntas_respuestas = pd.read_excel(\"preguntas_BOT.xlsx\")\n",
    "\n",
    "# Asegurarse de que tenemos los 'Item' correspondientes a las primeras 10 preguntas evaluadas.\n",
    "# El df_resultados tiene las 'Pregunta' originales, podemos usar el índice para mapear a 'Item'.\n",
    "# Asumiendo que df_resultados se construyó en el mismo orden que df_preguntas_respuestas.head(10)\n",
    "\n",
    "#df_pca['Item'] = df_preguntas_respuestas['Item'].head(len(df_pca)).tolist()\n",
    "df_pca['Item'] = df_resultados['Item'].head(len(df_pca)).tolist()\n",
    "\n",
    "# --- PASO 4: Calcular las correlaciones para las direcciones de las variables ---\n",
    "loadings = pca.components_.T * np.sqrt(pca.explained_variance_)\n",
    "\n",
    "# Crear un DataFrame para los loadings\n",
    "df_loadings = pd.DataFrame(loadings, columns=['PC1', 'PC2'], index=metricas_cols)\n",
    "\n",
    "# --- PASO 5: Visualizar el biplot ---\n",
    "plt.figure(figsize=(12, 12)) # Aumentar ligeramente el tamaño para mejor visualización\n",
    "sns.set_style(\"whitegrid\")\n",
    "\n",
    "# Dibujar las preguntas (observaciones) como puntos\n",
    "# Usamos 'Item' para el hue y las etiquetas\n",
    "sns.scatterplot(x='PC1', y='PC2', data=df_pca, hue='Item', s=150, alpha=0.8, edgecolor='w', linewidth=0.7, zorder=2) # Aumentar tamaño y zorder\n",
    "\n",
    "# Añadir etiquetas a cada punto (Pregunta) usando la columna 'Item' (P1, P2, etc.)\n",
    "for i, txt in enumerate(df_pca['Item']):\n",
    "    plt.annotate(txt, (df_pca['PC1'][i], df_pca['PC2'][i]),\n",
    "                 textcoords=\"offset points\", xytext=(5,5), ha='center', fontsize=9, fontweight='bold', zorder=3)\n",
    "\n",
    "\n",
    "# Dibujar el círculo unitario para interpretar las correlaciones\n",
    "circle = plt.Circle((0, 0), 1, color='gray', fill=False, linestyle='--', linewidth=0.8, alpha=0.7, zorder=1)\n",
    "plt.gca().add_patch(circle)\n",
    "\n",
    "# Ajustar los límites del plot para que todo quepa bien\n",
    "x_min, x_max = df_pca['PC1'].min(), df_pca['PC1'].max()\n",
    "y_min, y_max = df_pca['PC2'].min(), df_pca['PC2'].max()\n",
    "\n",
    "x_min_load, x_max_load = df_loadings['PC1'].min(), df_loadings['PC1'].max()\n",
    "y_min_load, y_max_load = df_loadings['PC2'].min(), df_loadings['PC2'].max()\n",
    "\n",
    "overall_min_x = min(x_min, x_min_load, -1.1) # Incluye el límite del círculo\n",
    "overall_max_x = max(x_max, x_max_load, 1.1)\n",
    "overall_min_y = min(y_min, y_min_load, -1.1)\n",
    "overall_max_y = max(y_max, y_max_load, 1.1)\n",
    "\n",
    "margin = 0.15 # 15% de margen\n",
    "plt.xlim(overall_min_x - abs(overall_min_x * margin), overall_max_x + abs(overall_max_x * margin))\n",
    "plt.ylim(overall_min_y - abs(overall_min_y * margin), overall_max_y + abs(overall_max_y * margin))\n",
    "\n",
    "\n",
    "# Dibujar las flechas para las variables (métricas)\n",
    "for i, var in enumerate(metricas_cols):\n",
    "    plt.arrow(0, 0, df_loadings['PC1'][i], df_loadings['PC2'][i],\n",
    "              color='red', alpha=0.9, lw=2, head_width=0.08, head_length=0.1, zorder=2)\n",
    "    plt.text(df_loadings['PC1'][i] * 1.15, df_loadings['PC2'][i] * 1.15, # Posición del texto ligeramente fuera\n",
    "             var, color='red', ha='center', va='center', fontsize=11, fontweight='bold', zorder=3)\n",
    "\n",
    "plt.xlabel(f'Componente Principal 1 ({pca.explained_variance_ratio_[0]*100:.2f}%)')\n",
    "plt.ylabel(f'Componente Principal 2 ({pca.explained_variance_ratio_[1]*100:.2f}%)')\n",
    "plt.title('PCA Biplot de Preguntas y Métricas de Evaluación de LLM', fontsize=14, fontweight='bold')\n",
    "plt.grid(True, linestyle='--', alpha=0.6)\n",
    "plt.axhline(0, color='gray', lw=0.5, linestyle=':', alpha=0.7)\n",
    "plt.axvline(0, color='gray', lw=0.5, linestyle=':', alpha=0.7)\n",
    "plt.legend(title='Pregunta', bbox_to_anchor=(1.05, 1), loc='upper left', borderaxespad=0.)\n",
    "plt.tight_layout(rect=[0, 0, 0.85, 1]) # Ajustar layout para hacer espacio para la leyenda\n",
    "plt.show()\n"
   ]
  },
  {
   "cell_type": "markdown",
   "metadata": {},
   "source": [
    "## Cronbach sin estandarizar"
   ]
  },
  {
   "cell_type": "code",
   "execution_count": 24,
   "metadata": {},
   "outputs": [
    {
     "name": "stdout",
     "output_type": "stream",
     "text": [
      "Alpha de Cronbach: 0.0012191274851949818\n"
     ]
    }
   ],
   "source": [
    "import numpy as np\n",
    "\n",
    "# X es el DataFrame que contiene tus métricas (Coherencia, Personalización, Fluidez, Alucinación, Similaridad_Modelo_Humana)\n",
    "\n",
    "# 1. Calcular el número de ítems (k)\n",
    "k = X.shape[1]\n",
    "\n",
    "# 2. Calcular la suma de las varianzas de cada métrica (σ²_Yi)\n",
    "#    .var(axis=0) calcula la varianza de cada columna.\n",
    "var_items_sum = X.var(axis=0).sum()\n",
    "\n",
    "# 3. Calcular la varianza de la suma total de las puntuaciones (σ²_X)\n",
    "#    .sum(axis=1) suma los valores por fila para obtener la puntuación total de cada respuesta.\n",
    "#    .var() calcula la varianza de esas sumas totales.\n",
    "var_total_score = X.sum(axis=1).var()\n",
    "\n",
    "# 4. Calcular el Alpha de Cronbach usando la fórmula:\n",
    "#    α = (k / (k-1)) * (1 - (Σσ²_Yi / σ²_X))\n",
    "\n",
    "if var_total_score == 0:\n",
    "    # Evitar división por cero si todas las respuestas tienen la misma suma de métricas\n",
    "    alpha_cronbach = 0.0\n",
    "else:\n",
    "    alpha_cronbach = (k / (k - 1)) * (1 - (var_items_sum / var_total_score))\n",
    "\n",
    "print(f\"Alpha de Cronbach: {alpha_cronbach}\")"
   ]
  },
  {
   "cell_type": "code",
   "execution_count": 25,
   "metadata": {},
   "outputs": [],
   "source": [
    "X.to_excel(\"respuestas.xlsx\",index=False)"
   ]
  },
  {
   "cell_type": "markdown",
   "metadata": {},
   "source": [
    "## Cronbach estandarizado"
   ]
  },
  {
   "cell_type": "code",
   "execution_count": 26,
   "metadata": {},
   "outputs": [
    {
     "name": "stdout",
     "output_type": "stream",
     "text": [
      "Alpha de Cronbach (Normalizado): 0.6639103979895067\n"
     ]
    }
   ],
   "source": [
    "from sklearn.preprocessing import StandardScaler\n",
    "import numpy as np\n",
    "import pandas as pd\n",
    "\n",
    "# Suponiendo que 'X' es tu DataFrame de métricas original (Coherencia, Personalización, Fluidez, etc.)\n",
    "\n",
    "# 1. Normalizar los datos usando StandardScaler (Z-Score)\n",
    "scaler = StandardScaler()\n",
    "# Convertimos el resultado a un DataFrame de Pandas para mantener los nombres de columnas\n",
    "X_normalized = pd.DataFrame(scaler.fit_transform(X), columns=X.columns)\n",
    "\n",
    "# 2. Recalcular el Alpha de Cronbach en los datos normalizados (X_normalized)\n",
    "\n",
    "# Calcular el número de ítems (k)\n",
    "k = X_normalized.shape[1]\n",
    "\n",
    "# Calcular la suma de las varianzas de cada métrica normalizada (σ²_Yi)\n",
    "# Aunque StandardScaler asegura que la varianza de cada columna sea 1,\n",
    "# lo calculamos para la fórmula.\n",
    "var_items_sum_normalized = X_normalized.var(axis=0).sum()\n",
    "\n",
    "# Calcular la varianza de la suma total de las puntuaciones normalizadas (σ²_X)\n",
    "var_total_score_normalized = X_normalized.sum(axis=1).var()\n",
    "\n",
    "# Calcular el Alpha de Cronbach Normalizado\n",
    "if var_total_score_normalized == 0:\n",
    "    alpha_cronbach_normalized = 0.0\n",
    "else:\n",
    "    alpha_cronbach_normalized = (k / (k - 1)) * (1 - (var_items_sum_normalized / var_total_score_normalized))\n",
    "\n",
    "print(f\"Alpha de Cronbach (Normalizado): {alpha_cronbach_normalized}\")"
   ]
  },
  {
   "cell_type": "code",
   "execution_count": null,
   "metadata": {},
   "outputs": [],
   "source": []
  }
 ],
 "metadata": {
  "colab": {
   "provenance": []
  },
  "kernelspec": {
   "display_name": "my_env",
   "language": "python",
   "name": "python3"
  },
  "language_info": {
   "codemirror_mode": {
    "name": "ipython",
    "version": 3
   },
   "file_extension": ".py",
   "mimetype": "text/x-python",
   "name": "python",
   "nbconvert_exporter": "python",
   "pygments_lexer": "ipython3",
   "version": "3.10.11"
  }
 },
 "nbformat": 4,
 "nbformat_minor": 0
}
